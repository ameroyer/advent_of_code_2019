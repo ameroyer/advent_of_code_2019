{
 "cells": [
  {
   "cell_type": "markdown",
   "metadata": {},
   "source": [
    "# ☕ [Day 14](https://adventofcode.com/2019/day/14)"
   ]
  },
  {
   "cell_type": "code",
   "execution_count": 63,
   "metadata": {},
   "outputs": [],
   "source": [
    "import math\n",
    "from collections import defaultdict\n",
    "\n",
    "def build_graph(inputs):\n",
    "    reactions = {}\n",
    "    for line in inputs.splitlines():\n",
    "        components, product = line.split(' => ')\n",
    "        components = [x.split(' ') for x in components.split(', ')]\n",
    "        num, name = product.split(' ')\n",
    "        reactions[name] = (int(num), tuple(map(lambda x: (int(x[0]), x[1]), components)))\n",
    "    return reactions\n",
    "\n",
    "def make_fuel(reactions, num_fuel=1):\n",
    "    # Save left-overs and total created components over time\n",
    "    pantry = defaultdict(lambda: 0)\n",
    "    created = defaultdict(lambda: 0)\n",
    "        \n",
    "    def synthetize(name, required):\n",
    "        # Compute how many ores are required to produce 'num'\n",
    "        # or element 'name'\n",
    "        if name == 'ORE':\n",
    "            return required\n",
    "        # Check if element is in pantry\n",
    "        if pantry[name] > required:\n",
    "            pantry[name] -= required\n",
    "            return 0\n",
    "        # Otherwise, do some experiments\n",
    "        required -= pantry[name]\n",
    "        amount, components = reactions[name]\n",
    "        num_reactions = math.ceil(required / amount)\n",
    "        # compute ores required for components\n",
    "        ores = 0\n",
    "        for c_num, c_name in components:\n",
    "            c_required = num_reactions * c_num\n",
    "            ores += synthetize(c_name, c_required)\n",
    "        # Update leftovers to pantry\n",
    "        pantry[name] = num_reactions * amount - required\n",
    "        created[name] = required\n",
    "        # Update\n",
    "        return ores\n",
    "     \n",
    "    # Compute number of required ores for 1 FUEL\n",
    "    return synthetize('FUEL', num_fuel)"
   ]
  },
  {
   "cell_type": "code",
   "execution_count": 66,
   "metadata": {},
   "outputs": [],
   "source": [
    "## Binary search to find the number of fuel \n",
    "# given some budget of ores\n",
    "def find_num_fuel(reactions, ores_budget=1000000000000):\n",
    "    # Get upper bound\n",
    "    ores = make_fuel(reactions, 1)\n",
    "    upper = 2 * ores_budget // ores\n",
    "    # Binary search\n",
    "    def search(start, end):\n",
    "        n = math.ceil((start + end) / 2)\n",
    "        ores = make_fuel(reactions, n)\n",
    "        # Return cases\n",
    "        if ores == ores_budget:\n",
    "            return n\n",
    "        if end == start:\n",
    "            return start\n",
    "        # Recursive\n",
    "        if ores == ores_budget:\n",
    "            return n\n",
    "        elif ores > ores_budget:\n",
    "            return search(start, n - 1)\n",
    "        else:\n",
    "            return search(n + 1, end)\n",
    "    return search(1, upper)"
   ]
  },
  {
   "cell_type": "code",
   "execution_count": 67,
   "metadata": {},
   "outputs": [
    {
     "name": "stdout",
     "output_type": "stream",
     "text": [
      "319014 OREs are required to produce 1 FUEL\n",
      "A trillion OREs make a total of 4076490 FUELs\n"
     ]
    }
   ],
   "source": [
    "with open(\"inputs/day14.txt\", 'r') as f:\n",
    "    inputs = f.read()\n",
    "    \n",
    "reactions = build_graph(inputs)\n",
    "print(\"{} OREs are required to produce 1 FUEL\".format(make_fuel(reactions)))\n",
    "print(\"A trillion OREs make a total of {} FUELs\".format(find_num_fuel(reactions)))"
   ]
  }
 ],
 "metadata": {
  "kernelspec": {
   "display_name": "Python 3",
   "language": "python",
   "name": "python3"
  },
  "language_info": {
   "codemirror_mode": {
    "name": "ipython",
    "version": 3
   },
   "file_extension": ".py",
   "mimetype": "text/x-python",
   "name": "python",
   "nbconvert_exporter": "python",
   "pygments_lexer": "ipython3",
   "version": "3.8.5"
  }
 },
 "nbformat": 4,
 "nbformat_minor": 4
}
