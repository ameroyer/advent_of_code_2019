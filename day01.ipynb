{
 "cells": [
  {
   "cell_type": "markdown",
   "metadata": {
    "ExecuteTime": {
     "end_time": "2019-12-04T09:52:17.261322Z",
     "start_time": "2019-12-04T09:52:17.258167Z"
    }
   },
   "source": [
    "# 🎅 [Day 1](https://adventofcode.com/2019/day/1)"
   ]
  },
  {
   "cell_type": "code",
   "execution_count": 6,
   "metadata": {
    "ExecuteTime": {
     "end_time": "2019-12-04T10:03:17.544260Z",
     "start_time": "2019-12-04T10:03:17.536320Z"
    }
   },
   "outputs": [],
   "source": [
    "def get_fuel(x):\n",
    "    return x // 3 - 2\n",
    "\n",
    "def get_recursive_fuel(x):\n",
    "    if x < 9:\n",
    "        return 0\n",
    "    else:\n",
    "        f = get_fuel(x) \n",
    "        return f + get_recursive_fuel(f)\n",
    "\n",
    "def get_fuel_requirement(modules, recursive=False):\n",
    "    fn = get_recursive_fuel if recursive else get_fuel\n",
    "    return sum(fn(x) for x in modules)"
   ]
  },
  {
   "cell_type": "code",
   "execution_count": 8,
   "metadata": {
    "ExecuteTime": {
     "end_time": "2019-12-04T10:03:30.649784Z",
     "start_time": "2019-12-04T10:03:30.631516Z"
    }
   },
   "outputs": [
    {
     "name": "stdout",
     "output_type": "stream",
     "text": [
      "Total Requirement: 3267638\n",
      "Real total Requirement: 4898585\n"
     ]
    }
   ],
   "source": [
    "with open(\"inputs/day1.txt\", 'r') as f:\n",
    "    inputs = list(map(int, f.read().splitlines()))\n",
    "    \n",
    "print('Total Requirement:', get_fuel_requirement(inputs))\n",
    "print('Real total Requirement:', get_fuel_requirement(inputs, recursive=True))"
   ]
  }
 ],
 "metadata": {
  "kernelspec": {
   "display_name": "Python 3",
   "language": "python",
   "name": "python3"
  },
  "language_info": {
   "codemirror_mode": {
    "name": "ipython",
    "version": 3
   },
   "file_extension": ".py",
   "mimetype": "text/x-python",
   "name": "python",
   "nbconvert_exporter": "python",
   "pygments_lexer": "ipython3",
   "version": "3.5.2"
  }
 },
 "nbformat": 4,
 "nbformat_minor": 2
}
