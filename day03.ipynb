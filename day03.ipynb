{
 "cells": [
  {
   "cell_type": "markdown",
   "metadata": {},
   "source": [
    "# 🎄 [Day 3](https://adventofcode.com/2019/day/3)"
   ]
  },
  {
   "cell_type": "code",
   "execution_count": 1,
   "metadata": {
    "ExecuteTime": {
     "end_time": "2019-12-12T15:02:28.797171Z",
     "start_time": "2019-12-12T15:02:28.687242Z"
    },
    "code_folding": [
     24
    ]
   },
   "outputs": [],
   "source": [
    "from collections import defaultdict\n",
    "\n",
    "x_increment = {'R': 1, 'L': -1, 'U': 0, 'D': 0}\n",
    "y_increment = {'R': 0, 'L': 0, 'U': -1, 'D': +1}\n",
    "\n",
    "def map_wire(wire, with_steps=False):    \n",
    "    \"\"\"Given a wire description, return a dictionary of 2D positions \n",
    "    which are traversed by the wire\"\"\"\n",
    "    global x_increment, y_increment\n",
    "    x, y = 0, 0\n",
    "    num_steps = 0\n",
    "    default = float('inf') if with_steps else False\n",
    "    indices = defaultdict(lambda: defaultdict(lambda: False))\n",
    "    for path in wire:\n",
    "        d, steps = path[0], int(path[1:])\n",
    "        for i in range(steps):\n",
    "            x += x_increment[d]\n",
    "            y += y_increment[d]\n",
    "            if not indices[x][y]:\n",
    "                indices[x][y] = num_steps + i + 1 if with_steps else True\n",
    "        num_steps += steps\n",
    "    return indices\n",
    "\n",
    "def get_intersection(wire1, wire2):\n",
    "    \"\"\"Returns the distance to the closest intersection (in Manhattan distance)\n",
    "    between the two inputs wires\"\"\"\n",
    "    global x_increment, y_increment\n",
    "    indices = map_wire(wire1)\n",
    "    x, y = 0, 0\n",
    "    closest = float('inf')\n",
    "    for path in wire2:\n",
    "        d, steps = path[0], int(path[1:])\n",
    "        for i in range(steps):\n",
    "            x += x_increment[d]\n",
    "            y += y_increment[d]            \n",
    "            if indices[x][y]:\n",
    "                closest = min(closest, abs(x) + abs(y))\n",
    "    return closest\n",
    "\n",
    "def get_delay(wire1, wire2):\n",
    "    \"\"\"Returns the minimum signal delay\"\"\"\n",
    "    indices = map_wire(wire1, with_steps=True)\n",
    "    x, y = 0, 0\n",
    "    num_steps = 0\n",
    "    closest = float('inf')\n",
    "    for path in wire2:\n",
    "        d, steps = path[0], int(path[1:])\n",
    "        for i in range(steps):\n",
    "            x += x_increment[d]\n",
    "            y += y_increment[d]            \n",
    "            if indices[x][y]:\n",
    "                closest = min(closest, indices[x][y] + num_steps + i + 1)\n",
    "        num_steps += steps\n",
    "    return closest"
   ]
  },
  {
   "cell_type": "code",
   "execution_count": 2,
   "metadata": {
    "ExecuteTime": {
     "end_time": "2019-12-12T15:02:29.044231Z",
     "start_time": "2019-12-12T15:02:28.798437Z"
    }
   },
   "outputs": [
    {
     "name": "stdout",
     "output_type": "stream",
     "text": [
      "Distance to the closest intersection: 399\n",
      "Minimum signal delay: 15678\n"
     ]
    }
   ],
   "source": [
    "with open(\"inputs/day3.txt\", 'r') as f:\n",
    "    inputs = [x.split(',') for x in f.read().splitlines()]\n",
    "        \n",
    "print('Distance to the closest intersection:', get_intersection(*inputs))\n",
    "print('Minimum signal delay:', get_delay(*inputs))"
   ]
  },
  {
   "cell_type": "code",
   "execution_count": 4,
   "metadata": {
    "ExecuteTime": {
     "end_time": "2019-12-12T15:02:33.186413Z",
     "start_time": "2019-12-12T15:02:31.255180Z"
    }
   },
   "outputs": [
    {
     "data": {
      "image/png": "[encoded data removed]",
      "text/plain": [
       "<Figure size 864x864 with 1 Axes>"
      ]
     },
     "metadata": {},
     "output_type": "display_data"
    }
   ],
   "source": [
    "import numpy as np\n",
    "from matplotlib import pyplot as plt\n",
    "from scipy.sparse import lil_matrix as sparse_matrix\n",
    "\n",
    "\n",
    "def plot_wires(wires):  \n",
    "    # Determine bounds\n",
    "    bounds = [0, 0, 0, 0]\n",
    "    for wire in wires:\n",
    "        x, y = 0, 0\n",
    "        for path in wire:\n",
    "            d, steps = path[0], int(path[1:])\n",
    "            if d == 'R':\n",
    "                x += steps\n",
    "                bounds[1] = max(bounds[1], x)\n",
    "            elif d == 'L':\n",
    "                x -= steps\n",
    "                bounds[0] = min(bounds[0], x)\n",
    "            elif d == 'U':\n",
    "                y -= steps\n",
    "                bounds[2] = min(bounds[2], y)\n",
    "            elif d == 'D':\n",
    "                y += steps\n",
    "                bounds[3] = max(bounds[3], y)\n",
    "                \n",
    "    # Draw sparse matrix\n",
    "    plt.figure(figsize=(12, 12)) \n",
    "    colors = [(0.95, 0.65, 0), (0, 0.8, 1)]\n",
    "    canvas = sparse_matrix((bounds[3] - bounds[2] + 1, bounds[1] - bounds[0] + 1))\n",
    "    for i, wire in enumerate(wires):\n",
    "        x, y = 0, 0\n",
    "        for path in wire:\n",
    "            d, steps = path[0], int(path[1:])\n",
    "            if d == 'R':\n",
    "                canvas[y - bounds[2], x - bounds[0]:x - bounds[0] + steps + 1] = 1\n",
    "                x += steps\n",
    "            elif d == 'L':\n",
    "                canvas[y - bounds[2], x - bounds[0] - steps:x - bounds[0] + 1] = 1\n",
    "                x -= steps\n",
    "            elif d == 'U':\n",
    "                canvas[y - bounds[2] - steps:y - bounds[2] + 1, x - bounds[0]] = 1\n",
    "                y -= steps\n",
    "            elif d == 'D':\n",
    "                canvas[y - bounds[2]:y - bounds[2] + steps + 1, x - bounds[0]] = 1\n",
    "                y += steps\n",
    "        plt.spy(canvas, color=colors[i], zorder=-i, linewidth=0.1)\n",
    "    plt.title(\"Day 3: Crossed Wires\", fontsize=21)\n",
    "    plt.axis(\"off\")\n",
    "    plt.show()\n",
    "    \n",
    "        \n",
    "plot_wires(inputs)"
   ]
  }
 ],
 "metadata": {
  "kernelspec": {
   "display_name": "Python 3",
   "language": "python",
   "name": "python3"
  },
  "language_info": {
   "codemirror_mode": {
    "name": "ipython",
    "version": 3
   },
   "file_extension": ".py",
   "mimetype": "text/x-python",
   "name": "python",
   "nbconvert_exporter": "python",
   "pygments_lexer": "ipython3",
   "version": "3.5.2"
  },
  "latex_envs": {
   "LaTeX_envs_menu_present": true,
   "autoclose": false,
   "autocomplete": true,
   "bibliofile": "biblio.bib",
   "cite_by": "apalike",
   "current_citInitial": 1,
   "eqLabelWithNumbers": true,
   "eqNumInitial": 1,
   "hotkeys": {
    "equation": "Ctrl-E",
    "itemize": "Ctrl-I"
   },
   "labels_anchors": false,
   "latex_user_defs": false,
   "report_style_numbering": false,
   "user_envs_cfg": false
  },
  "widgets": {
   "application/vnd.jupyter.widget-state+json": {
    "state": {},
    "version_major": 2,
    "version_minor": 0
   }
  }
 },
 "nbformat": 4,
 "nbformat_minor": 2
}
