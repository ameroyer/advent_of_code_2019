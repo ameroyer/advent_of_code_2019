{
 "cells": [
  {
   "cell_type": "markdown",
   "metadata": {},
   "source": [
    "# 🎀 [Day 22](https://adventofcode.com/2019/day/22)"
   ]
  },
  {
   "cell_type": "code",
   "execution_count": 36,
   "metadata": {},
   "outputs": [],
   "source": [
    "def deal(cards):\n",
    "    n = len(cards)\n",
    "    for i in range(n // 2):\n",
    "        cards[i], cards[n - 1 - i] = cards[n - 1 - i], cards[i]\n",
    "\n",
    "def cut(cards, N):\n",
    "    if N < 0:\n",
    "        N = len(cards) + N\n",
    "    cut = cards[:N]\n",
    "    for i in range(len(cards) - N):\n",
    "        cards[i] = cards[N + i]\n",
    "    for i in range(N):\n",
    "        cards[len(cards) - N + i] = cut[i]\n",
    "\n",
    "def deal_with_increment(cards, N):\n",
    "    n = len(cards)\n",
    "    deck = [0] * n\n",
    "    index = 0\n",
    "    for i in range(n):\n",
    "        deck[index] = cards[i]\n",
    "        index = (index + N) % n\n",
    "    return deck\n",
    "\n",
    "\n",
    "def shuffle(commands, n=10007):\n",
    "    \"\"\"Apply shuffle instructions\"\"\"\n",
    "    cards = list(range(n))\n",
    "    for line in commands:\n",
    "        if line.startswith('cut'):\n",
    "            N = int(line.split()[-1])\n",
    "            cut(cards, N)\n",
    "        elif line.startswith('deal with increment'):\n",
    "            N = int(line.split()[-1])\n",
    "            cards = deal_with_increment(cards, N)\n",
    "        elif line.startswith('deal into'):\n",
    "            deal(cards)\n",
    "    return cards\n",
    "        \n",
    "    \n",
    "def track_card(commands, n=10007, card=2019):\n",
    "    \"\"\"Position of a card is actually independent from the others\"\"\"\n",
    "    index = card\n",
    "    for line in commands:\n",
    "        if line.startswith('cut'):\n",
    "            N = int(line.split()[-1])\n",
    "            N+= n if N < 0 else 0\n",
    "            if index < N:\n",
    "                index = n - N + index\n",
    "            else:\n",
    "                index -= N\n",
    "        elif line.startswith('deal with increment'):\n",
    "            N = int(line.split()[-1])\n",
    "            index = (N * index) % n\n",
    "        elif line.startswith('deal into'):\n",
    "            index = n - 1 - index\n",
    "    return index"
   ]
  },
  {
   "cell_type": "code",
   "execution_count": 37,
   "metadata": {},
   "outputs": [
    {
     "data": {
      "text/plain": [
       "1"
      ]
     },
     "execution_count": 37,
     "metadata": {},
     "output_type": "execute_result"
    }
   ],
   "source": [
    "test = \"\"\"deal with increment 3\"\"\"\n",
    "track_card([test], 10, 7)"
   ]
  },
  {
   "cell_type": "code",
   "execution_count": 38,
   "metadata": {},
   "outputs": [
    {
     "data": {
      "text/plain": [
       "6431"
      ]
     },
     "execution_count": 38,
     "metadata": {},
     "output_type": "execute_result"
    }
   ],
   "source": [
    "track_card(inputs)"
   ]
  },
  {
   "cell_type": "code",
   "execution_count": 44,
   "metadata": {},
   "outputs": [
    {
     "name": "stdout",
     "output_type": "stream",
     "text": [
      "After one suffle, the 2019-th card is at position 6431\n",
      "Verifying `track_card` implementation: 6431\n"
     ]
    }
   ],
   "source": [
    "with open('inputs/day22.txt', 'r') as f:\n",
    "    inputs = f.read().splitlines()\n",
    "    \n",
    "print(\"After one suffle, the 2019-th card is at position\", shuffle(inputs).index(2019))\n",
    "print(\"Verifying `track_card` implementation:\", track_card(inputs, card=2019))"
   ]
  },
  {
   "cell_type": "code",
   "execution_count": 50,
   "metadata": {},
   "outputs": [
    {
     "name": "stdout",
     "output_type": "stream",
     "text": [
      "CPU times: user 3.17 s, sys: 3.99 ms, total: 3.17 s\n",
      "Wall time: 3.18 s\n"
     ]
    }
   ],
   "source": [
    "%%time\n",
    "card = 2020\n",
    "n = 119315717514047\n",
    "seen = {}\n",
    "for i in range(50000):\n",
    "    card = track_card(inputs, n=n, card=card)\n",
    "    if card in seen:\n",
    "        print(card)\n",
    "        break\n",
    "    seen[card] = 1\n",
    "del seen"
   ]
  },
  {
   "cell_type": "code",
   "execution_count": null,
   "metadata": {},
   "outputs": [],
   "source": []
  }
 ],
 "metadata": {
  "kernelspec": {
   "display_name": "Python 3",
   "language": "python",
   "name": "python3"
  },
  "language_info": {
   "codemirror_mode": {
    "name": "ipython",
    "version": 3
   },
   "file_extension": ".py",
   "mimetype": "text/x-python",
   "name": "python",
   "nbconvert_exporter": "python",
   "pygments_lexer": "ipython3",
   "version": "3.8.5"
  }
 },
 "nbformat": 4,
 "nbformat_minor": 4
}
