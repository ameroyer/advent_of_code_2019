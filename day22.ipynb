{
 "cells": [
  {
   "cell_type": "markdown",
   "metadata": {},
   "source": [
    "# 🎀 [Day 22](https://adventofcode.com/2019/day/22)"
   ]
  },
  {
   "cell_type": "code",
   "execution_count": 1,
   "metadata": {},
   "outputs": [],
   "source": [
    "def deal(cards):\n",
    "    n = len(cards)\n",
    "    for i in range(n // 2):\n",
    "        cards[i], cards[n - 1 - i] = cards[n - 1 - i], cards[i]\n",
    "\n",
    "def cut(cards, N):\n",
    "    if N < 0:\n",
    "        N = len(cards) + N\n",
    "    cut = cards[:N]\n",
    "    for i in range(len(cards) - N):\n",
    "        cards[i] = cards[N + i]\n",
    "    for i in range(N):\n",
    "        cards[len(cards) - N + i] = cut[i]\n",
    "\n",
    "def deal_with_increment(cards, N):\n",
    "    n = len(cards)\n",
    "    deck = [0] * n\n",
    "    index = 0\n",
    "    for i in range(n):\n",
    "        deck[index] = cards[i]\n",
    "        index = (index + N) % n\n",
    "    return deck\n",
    "\n",
    "\n",
    "def shuffle(commands, n=10007):\n",
    "    \"\"\"Apply shuffle instructions\"\"\"\n",
    "    cards = list(range(n))\n",
    "    for line in commands:\n",
    "        if line.startswith('cut'):\n",
    "            N = int(line.split()[-1])\n",
    "            cut(cards, N)\n",
    "        elif line.startswith('deal with increment'):\n",
    "            N = int(line.split()[-1])\n",
    "            cards = deal_with_increment(cards, N)\n",
    "        elif line.startswith('deal into'):\n",
    "            deal(cards)\n",
    "    return cards\n",
    "        \n",
    "    \n",
    "def track_card(commands, n=10007, card=2019):\n",
    "    \"\"\"Position of a card is actually independent from the others\"\"\"\n",
    "    index = card\n",
    "    for line in commands:\n",
    "        if line.startswith('cut'):\n",
    "            N = int(line.split()[-1])\n",
    "            N+= n if N < 0 else 0\n",
    "            if index < N:\n",
    "                index = n - N + index\n",
    "            else:\n",
    "                index -= N\n",
    "        elif line.startswith('deal with increment'):\n",
    "            N = int(line.split()[-1])\n",
    "            index = (N * index) % n\n",
    "        elif line.startswith('deal into'):\n",
    "            index = n - 1 - index\n",
    "    return index"
   ]
  },
  {
   "cell_type": "code",
   "execution_count": 2,
   "metadata": {},
   "outputs": [
    {
     "name": "stdout",
     "output_type": "stream",
     "text": [
      "After one suffle, the 2019-th card is at position 6431\n",
      "Verifying `track_card` implementation: 6431\n"
     ]
    }
   ],
   "source": [
    "with open('inputs/day22.txt', 'r') as f:\n",
    "    inputs = f.read().splitlines()\n",
    "    \n",
    "print(\"After one suffle, the 2019-th card is at position\", shuffle(inputs).index(2019))\n",
    "print(\"Verifying `track_card` implementation:\", track_card(inputs, card=2019))"
   ]
  },
  {
   "cell_type": "markdown",
   "metadata": {},
   "source": [
    "**Part 2** must be solved with modular arithmetic. Building off `track_cards`, the three deck shuffling operations can be writen as:\n",
    "  * `deal(x)` = -x + n - 1\n",
    "  * `cut(x, N)` = x - N + n  [n]\n",
    "  * `deal_with_increment(x, N)` = x * N [n]\n",
    "  \n",
    " And if we invert them:\n",
    "  * `inv_deal(x)` =  `deal(x)`\n",
    "  * `inv_cut(x, N)` = `cut(x, n - N)` \n",
    "  * `deal_with_increment(x, N)` = x * N [n]\n",
    "  \n",
    " Thus shuffling is a sequence of linear operations (modulo n), hence can be rewritten as a linear operation `shuffle(x)` = Ax + B.\n",
    " \n",
    " Thus iterating shuffle gives us:\n",
    "   * `shuffle(x)`$^2$ = A$^2$ x + AB + B\n",
    "   * `shuffle(x)`$^3$ = A$^3$ x + A$^2$B + AB + B\n",
    "   *...\n",
    "   * `shuffle(x)`$^k$ = A$^k$ x + A$^{k - 1}$B + ... AB + B\n",
    "   \n",
    "The later terms are the sum of a geometric progression hence can be written: `shuffle(x)`$^k$ = A$^k$ x + $\\frac{1 - \\text{A}^k}{1 - \\text{A}}$ B"
   ]
  },
  {
   "cell_type": "code",
   "execution_count": 3,
   "metadata": {},
   "outputs": [],
   "source": [
    "def get_coefficients(commands, n, inv=False):\n",
    "    \"\"\"Position of a card is actually independent from the others\"\"\"\n",
    "    A = 1\n",
    "    B = 0\n",
    "    for line in (commands[::-1] if inv else commands):\n",
    "        if line.startswith('cut'):\n",
    "            N = int(line.split()[-1])\n",
    "            if inv:\n",
    "                B += N\n",
    "            else:\n",
    "                B += n - N\n",
    "        elif line.startswith('deal with increment'):\n",
    "            N = int(line.split()[-1])\n",
    "            if inv:\n",
    "                invmod = pow(N, -1, n)\n",
    "                B *= invmod\n",
    "                A *= invmod\n",
    "            else:\n",
    "                B *= N\n",
    "                A *= N\n",
    "        elif line.startswith('deal into'):\n",
    "            B = - B + n - 1\n",
    "            A = - A\n",
    "    return A, B\n",
    "\n",
    "\n",
    "def repeat(x, k, A, B, n):\n",
    "    Ak = pow(A, k, n) # modulo\n",
    "    out = Ak * x % n\n",
    "    invmod = pow(1 - A, -1, n)\n",
    "    out += (B % n) * ((1 - Ak) % n) * invmod\n",
    "    return int(out % n)"
   ]
  },
  {
   "cell_type": "code",
   "execution_count": 4,
   "metadata": {},
   "outputs": [
    {
     "name": "stdout",
     "output_type": "stream",
     "text": [
      "\u001b[1mTest repeat formula on Part 1 inputs\u001b[0m\n",
      "Brute force says 4976\n",
      "Modular arithmetics says 4976\n"
     ]
    }
   ],
   "source": [
    "print(\"\\033[1mTest repeat formula on Part 1 inputs\\033[0m\")\n",
    "card = 2019\n",
    "n = 10007\n",
    "A, B = get_coefficients(inputs, n)\n",
    "k = 5\n",
    "index = card\n",
    "for _ in range(k):\n",
    "    index = track_card(inputs, card=index)\n",
    "print(\"Brute force says\", index)\n",
    "print(\"Modular arithmetics says\", repeat(card, k, A, B, n))"
   ]
  },
  {
   "cell_type": "code",
   "execution_count": 5,
   "metadata": {},
   "outputs": [
    {
     "name": "stdout",
     "output_type": "stream",
     "text": [
      "\u001b[1mTest inversion formula\u001b[0m\n",
      "Brute force says 9632\n",
      "Modular arithemtics says 9632\n"
     ]
    }
   ],
   "source": [
    "print(\"\\033[1mTest inversion formula\\033[0m\")\n",
    "card = 2020\n",
    "n = 10007\n",
    "A, B = get_coefficients(inputs, n, inv=True)\n",
    "cards = shuffle(inputs, n)\n",
    "print(\"Brute force says\", cards[card])\n",
    "print(\"Modular arithemtics says\", (A * card + B) % n)"
   ]
  },
  {
   "cell_type": "code",
   "execution_count": 6,
   "metadata": {},
   "outputs": [
    {
     "name": "stdout",
     "output_type": "stream",
     "text": [
      "The solution to part 2 is 100982886178958\n"
     ]
    }
   ],
   "source": [
    "card = 2020\n",
    "n = 119315717514047\n",
    "k = 101741582076661\n",
    "A, B = get_coefficients(inputs, n, inv=True)\n",
    "print(\"The solution to part 2 is\", repeat(card, k, A, B, n))"
   ]
  }
 ],
 "metadata": {
  "kernelspec": {
   "display_name": "Python 3",
   "language": "python",
   "name": "python3"
  },
  "language_info": {
   "codemirror_mode": {
    "name": "ipython",
    "version": 3
   },
   "file_extension": ".py",
   "mimetype": "text/x-python",
   "name": "python",
   "nbconvert_exporter": "python",
   "pygments_lexer": "ipython3",
   "version": "3.8.5"
  }
 },
 "nbformat": 4,
 "nbformat_minor": 4
}
