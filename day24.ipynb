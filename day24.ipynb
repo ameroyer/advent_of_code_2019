{
 "cells": [
  {
   "cell_type": "markdown",
   "metadata": {},
   "source": [
    "# 🎉 [Day 24](https://adventofcode.com/2019/day/24)"
   ]
  },
  {
   "cell_type": "code",
   "execution_count": 21,
   "metadata": {},
   "outputs": [],
   "source": [
    "import numpy as np\n",
    "\n",
    "\n",
    "def parse_bugs(inputs):\n",
    "    return np.array([[int(c == '#') for c in line]\n",
    "                     for line in inputs])\n",
    "\n",
    "\n",
    "def convolve2d(matrix, kernel): ## From day17\n",
    "    \"\"\"Basic 2d convolutions\"\"\"\n",
    "    lkw = int(np.ceil((kernel.shape[0] - 1) / 2))\n",
    "    lkh = int(np.ceil((kernel.shape[1] - 1) / 2))\n",
    "    conv = np.zeros_like(matrix)\n",
    "    # Pad \n",
    "    padded_matrix = np.pad(matrix, \n",
    "                           ((lkw, kernel.shape[0] - lkw),\n",
    "                            (lkh, kernel.shape[1] - lkh)),\n",
    "                            'constant')\n",
    "    for i in range(matrix.shape[0]):\n",
    "        for j in range(matrix.shape[1]):\n",
    "            conv[i, j] = np.sum(kernel * padded_matrix[i:i+kernel.shape[0], \n",
    "                                                       j:j+kernel.shape[1]])\n",
    "    return conv\n",
    "\n",
    "\n",
    "kernel = np.array([[0, 1, 0], [1, 0, 1], [0, 1, 0]])\n",
    "def game_of_life(bugs):\n",
    "    \"\"\"One step of the game of life\"\"\"\n",
    "    global kernel\n",
    "    counts = convolve2d(bugs, kernel)\n",
    "    bugs = bugs * (counts == 1) + (1 - bugs) * ((counts == 1) + (counts == 2))\n",
    "    return bugs\n",
    "\n",
    "\n",
    "biodiversity_map = np.reshape([2**i for i in range(25)], [5, 5])\n",
    "def biodiversity_index(bugs):\n",
    "    global biodiversity_map\n",
    "    return np.sum(bugs * biodiversity_map)\n",
    "\n",
    "# Unfortunately biodiversity_index is not layout-unique\n",
    "# so instead we define unique_index to quickly check for equality\n",
    "def unique_repr(bugs):\n",
    "    return ''.join(str(x) for line in bugs for x in line)\n",
    "\n",
    "\n",
    "def find_cycle(bugs):\n",
    "    seen = {}\n",
    "    seen[unique_repr(bugs)] = True\n",
    "    while 1:\n",
    "        bugs = game_of_life(bugs)\n",
    "        x = unique_repr(bugs)\n",
    "        if x in seen:\n",
    "            return biodiversity_index(bugs)\n",
    "        seen[x] = True"
   ]
  },
  {
   "cell_type": "code",
   "execution_count": 25,
   "metadata": {},
   "outputs": [
    {
     "name": "stdout",
     "output_type": "stream",
     "text": [
      "The biodiversity index of the first redundant layout is 1113073\n"
     ]
    }
   ],
   "source": [
    "with open('inputs/day24.txt', 'r') as f:\n",
    "    inputs = f.read().splitlines()\n",
    "    \n",
    "print(\"The biodiversity index of the first redundant layout is\", find_cycle(parse_bugs(inputs)))"
   ]
  }
 ],
 "metadata": {
  "kernelspec": {
   "display_name": "Python 3",
   "language": "python",
   "name": "python3"
  },
  "language_info": {
   "codemirror_mode": {
    "name": "ipython",
    "version": 3
   },
   "file_extension": ".py",
   "mimetype": "text/x-python",
   "name": "python",
   "nbconvert_exporter": "python",
   "pygments_lexer": "ipython3",
   "version": "3.8.5"
  }
 },
 "nbformat": 4,
 "nbformat_minor": 4
}
