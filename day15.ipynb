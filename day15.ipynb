{
 "cells": [
  {
   "cell_type": "markdown",
   "metadata": {},
   "source": [
    "# 🌰 [Day 15](https://adventofcode.com/2019/day/15)"
   ]
  },
  {
   "cell_type": "code",
   "execution_count": 1,
   "metadata": {},
   "outputs": [],
   "source": [
    "def run_program(p, inputs, init_op=0, init_base=0):\n",
    "    #Inputs are given in reverse order (pop)\n",
    "    op = init_op\n",
    "    relative_base = init_base\n",
    "    last_diagnostic = []\n",
    "    while p[op] != 99:\n",
    "        codes = \"%05d\" % p[op]\n",
    "        codes = [int(codes[0]), int(codes[1]), int(codes[2]), int(codes[3:])]\n",
    "        # inputs\n",
    "        if codes[-1] == 3:\n",
    "            if not len(inputs):\n",
    "                # Game is waiting for next move\n",
    "                break\n",
    "            assert codes[1] == 0\n",
    "            p[p[op + 1] + (relative_base if codes[2] == 2 else 0)] = inputs.pop()\n",
    "            op += 2\n",
    "        # unary ops\n",
    "        elif codes[-1] in  [4, 9]:\n",
    "            # read parameter\n",
    "            assert codes[1] == 0\n",
    "            param = p[op + 1]\n",
    "            if (codes[2] % 2) == 0:\n",
    "                try:\n",
    "                    param = p[param + (relative_base if codes[2] == 2 else 0)]\n",
    "                except IndexError:\n",
    "                    param = 0\n",
    "            # output\n",
    "            if codes[-1] == 4:\n",
    "                last_diagnostic.append(param)\n",
    "            # update relative base\n",
    "            else:\n",
    "                relative_base += param\n",
    "            # next instr\n",
    "            op += 2\n",
    "        else:\n",
    "            # read parameters in correct mode\n",
    "            x, y = p[op + 1:op + 3]\n",
    "            if (codes[2] % 2) == 0:\n",
    "                try:\n",
    "                    x = p[x + (relative_base if codes[2] == 2 else 0)]\n",
    "                except IndexError:\n",
    "                    x = 0\n",
    "            if not (codes[1] % 2):\n",
    "                try:\n",
    "                    y = p[y + (relative_base if codes[1] == 2 else 0)]\n",
    "                except IndexError:\n",
    "                    y = 0\n",
    "            # Read target and allocate more memory if needed\n",
    "            target = p[op + 3] + (relative_base if codes[0] == 2 else 0)\n",
    "            if target >= len(p): \n",
    "                p += [0] * (target - len(p) + 1)\n",
    "            # addition and multiplication\n",
    "            if codes[-1] in [1, 2]:\n",
    "                p[target] = x + y if codes[-1] == 1 else x * y\n",
    "                op += 4\n",
    "            # Comparison result\n",
    "            elif codes[-1] == 7:\n",
    "                p[target] = int(x < y)\n",
    "                op += 4\n",
    "            elif codes[-1] == 8:\n",
    "                p[target] = int(x == y)\n",
    "                op += 4\n",
    "            # Jump if eq\n",
    "            elif (codes[-1] == 5 and x != 0) or (codes[-1] == 6 and x == 0):\n",
    "                op = y  \n",
    "            # Jump instruction that failed their test\n",
    "            else:\n",
    "                op += 3\n",
    "    return last_diagnostic, 0, op, relative_base\n",
    "\n",
    "\n",
    "import heapq\n",
    "import numpy as np\n",
    "from collections import defaultdict\n",
    "\n",
    "def robot_bfs(program, n=50):\n",
    "    \"\"\"Breadth-first search\"\"\"\n",
    "    dists = defaultdict(lambda: float('inf'))\n",
    "    # Mapout\n",
    "    maze = np.zeros((n, n))\n",
    "    i, j = n // 2, n // 2\n",
    "    maze[i, j] = 1\n",
    "    oxg = None, None\n",
    "    # (cost, point, program state)\n",
    "    queue = [(0, (i, j), program, 0, 0)]\n",
    "    heapq.heapify(queue)\n",
    "    min_cost = float('inf')\n",
    "    \n",
    "    # current state\n",
    "    while len(queue):\n",
    "        cost, coords, program_state, op, base = heapq.heappop(queue)\n",
    "        for direction in [1, 2, 3, 4]:\n",
    "            p = [x for x in program_state]\n",
    "            out, _, next_op, next_base = run_program(p, [direction], op, base)\n",
    "            out = out[0]\n",
    "            # Hit a wall\n",
    "            if out == 0: \n",
    "                continue\n",
    "            # Advance\n",
    "            next_coords = (coords[0] + (1 if direction == 4 else -1 if direction == 3 else 0), \n",
    "                           coords[1] + (1 if direction == 2 else -1 if direction == 1 else 0))\n",
    "            if dists[next_coords] > cost + 1:\n",
    "                dists[next_coords] = cost + 1\n",
    "                if out == 1:\n",
    "                    maze[next_coords[0], next_coords[1]] = 1\n",
    "                    heapq.heappush(queue, (cost + 1, next_coords, p, next_op, next_base))\n",
    "                elif out == 2: ## Minimum costs to reach oxygen\n",
    "                    maze[next_coords[0], next_coords[1]] = 2\n",
    "                    min_cost = min(min_cost, cost + 1)\n",
    "                    oxg = next_coords\n",
    "    return min_cost, maze, oxg\n",
    "\n",
    "import matplotlib.pyplot as plt\n",
    "import matplotlib.animation as animation\n",
    "def oxygen_bfs(maze, oxg, verbose=True):\n",
    "    queue = [(oxg[0], oxg[1], 0)]\n",
    "    max_time = 0\n",
    "    if verbose:\n",
    "        fig = plt.figure()\n",
    "        plt.axis('off')\n",
    "        ims = []\n",
    "    while len(queue):\n",
    "        x, y, time = queue.pop(0)\n",
    "        propagate = False\n",
    "        for i, j in [(x - 1, y), (x + 1, y), (x, y - 1), (x, y + 1)]:\n",
    "            if maze[i, j] == 1:\n",
    "                maze[i, j] = 2\n",
    "                propagate = True\n",
    "                queue.append((i, j, time + 1))\n",
    "                max_time = max(time + 1, max_time)\n",
    "        time += int(propagate)\n",
    "        if verbose:\n",
    "            im = plt.imshow(maze)\n",
    "            ims.append([im])\n",
    "    \n",
    "    if verbose:\n",
    "        ani = animation.ArtistAnimation(fig, ims, interval=50, blit=True)\n",
    "        ani.save('day15.mp4')\n",
    "        plt.close(fig)\n",
    "    return time"
   ]
  },
  {
   "cell_type": "code",
   "execution_count": 2,
   "metadata": {},
   "outputs": [
    {
     "name": "stdout",
     "output_type": "stream",
     "text": [
      "The shortest path to oxygen takes 216 steps\n"
     ]
    }
   ],
   "source": [
    "with open(\"inputs/day15.txt\", 'r') as f:\n",
    "    inputs = list(map(int, f.read().split(',')))\n",
    "    min_cost, maze, oxg = robot_bfs(inputs)\n",
    "    \n",
    "print(\"The shortest path to oxygen takes {} steps\".format(min_cost))"
   ]
  },
  {
   "cell_type": "code",
   "execution_count": 3,
   "metadata": {},
   "outputs": [
    {
     "name": "stdout",
     "output_type": "stream",
     "text": [
      "The oxygen spreads through the whole space in 326 minutes\n"
     ]
    },
    {
     "data": {
      "text/html": [
       "<video src=\"day15.mp4\" controls  >\n",
       "      Your browser does not support the <code>video</code> element.\n",
       "    </video>"
      ],
      "text/plain": [
       "<IPython.core.display.Video object>"
      ]
     },
     "execution_count": 3,
     "metadata": {},
     "output_type": "execute_result"
    }
   ],
   "source": [
    "print(\"The oxygen spreads through the whole space in {} minutes\".format(\n",
    "    oxygen_bfs(maze, oxg)))\n",
    "from IPython.display import Video\n",
    "Video(\"day15.mp4\")"
   ]
  }
 ],
 "metadata": {
  "kernelspec": {
   "display_name": "Python 3",
   "language": "python",
   "name": "python3"
  },
  "language_info": {
   "codemirror_mode": {
    "name": "ipython",
    "version": 3
   },
   "file_extension": ".py",
   "mimetype": "text/x-python",
   "name": "python",
   "nbconvert_exporter": "python",
   "pygments_lexer": "ipython3",
   "version": "3.8.5"
  }
 },
 "nbformat": 4,
 "nbformat_minor": 4
}
