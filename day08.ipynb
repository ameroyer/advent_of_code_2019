{
 "cells": [
  {
   "cell_type": "markdown",
   "metadata": {},
   "source": [
    "# ✨ [Day 8](https://adventofcode.com/2019/day/8)"
   ]
  },
  {
   "cell_type": "code",
   "execution_count": 1,
   "metadata": {
    "ExecuteTime": {
     "end_time": "2019-12-16T16:46:59.425176Z",
     "start_time": "2019-12-16T16:46:58.954896Z"
    }
   },
   "outputs": [],
   "source": [
    "import numpy as np\n",
    "from matplotlib import pyplot as plt\n",
    "\n",
    "def fill_inputs(inputs, w, h):\n",
    "    num_layers = len(inputs) // (w * h)\n",
    "    images = [inputs[layer * w * h: (layer + 1) * w * h] \n",
    "              for layer in range(num_layers)]\n",
    "    return images\n",
    "\n",
    "def first_password(inputs, w=25, h=6):\n",
    "    images = fill_inputs(inputs, w, h)\n",
    "    num_zeros = [sum(int(d == '0') for d in x) for x in images]\n",
    "    layer = num_zeros.index(min(num_zeros))\n",
    "    num_1 = sum(int(d == '1') for d in images[layer])\n",
    "    num_2 = sum(int(d == '2') for d in images[layer])\n",
    "    return num_1 * num_2\n",
    "\n",
    "def display_images(inputs, w=25, h=6):\n",
    "    images = fill_inputs(inputs, w, h)\n",
    "    # 0 is transparent, 1 is white, 2 is black\n",
    "    images = [[2 - int(d) for d in x] for x in images] \n",
    "    images = np.reshape(images, (-1, w * h))\n",
    "    # Find the first non-zero value for each pixel\n",
    "    indices = np.cumsum(images, axis=0)\n",
    "    indices = np.argmin(indices <= 0, axis=0)\n",
    "    images = images[indices, np.arange(w * h)]\n",
    "    # Plot\n",
    "    images = np.reshape(images, (h, w))\n",
    "    plt.imshow(images, cmap='gray')\n",
    "    plt.axis(\"off\")\n",
    "    plt.show()"
   ]
  },
  {
   "cell_type": "code",
   "execution_count": 2,
   "metadata": {
    "ExecuteTime": {
     "end_time": "2019-12-16T16:46:59.557415Z",
     "start_time": "2019-12-16T16:46:59.427758Z"
    }
   },
   "outputs": [
    {
     "name": "stdout",
     "output_type": "stream",
     "text": [
      "BIOS password: 2286\n",
      "Decoded Image:\n"
     ]
    },
    {
     "data": {
      "image/png": "[encoded data removed]",
      "text/plain": [
       "<Figure size 432x288 with 1 Axes>"
      ]
     },
     "metadata": {},
     "output_type": "display_data"
    }
   ],
   "source": [
    "with open(\"inputs/day8.txt\", 'r') as f:\n",
    "    inputs = f.read()\n",
    "    \n",
    "print(\"BIOS password:\", first_password(inputs, 25, 6))\n",
    "print(\"Decoded Image:\")\n",
    "display_images(inputs, 25, 6)"
   ]
  }
 ],
 "metadata": {
  "kernelspec": {
   "display_name": "Python 3",
   "language": "python",
   "name": "python3"
  },
  "language_info": {
   "codemirror_mode": {
    "name": "ipython",
    "version": 3
   },
   "file_extension": ".py",
   "mimetype": "text/x-python",
   "name": "python",
   "nbconvert_exporter": "python",
   "pygments_lexer": "ipython3",
   "version": "3.5.3"
  }
 },
 "nbformat": 4,
 "nbformat_minor": 2
}
