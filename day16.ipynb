{
 "cells": [
  {
   "cell_type": "markdown",
   "metadata": {},
   "source": [
    "# 🎶 [Day 16](https://adventofcode.com/2019/day/16)"
   ]
  },
  {
   "cell_type": "code",
   "execution_count": 1,
   "metadata": {},
   "outputs": [],
   "source": [
    "def one_phase_fft(inputs, base_pattern=(0, 1, 0, -1)):\n",
    "    \"\"\"A naive implementation\"\"\"\n",
    "    outputs = [0] * len(inputs)\n",
    "    for i in range(len(inputs)):\n",
    "        res = 0\n",
    "        j = 0\n",
    "        try:\n",
    "            while 1:\n",
    "                for b in base_pattern:\n",
    "                    for repeat in range(i + 1):\n",
    "                        # skip first\n",
    "                        if j == 0:\n",
    "                            j += 1\n",
    "                            continue\n",
    "                        # Add to result\n",
    "                        res += inputs[j - 1] * b\n",
    "                        j += 1\n",
    "                        # Break when reaching end of inputs\n",
    "                        if j == len(inputs) + 1:\n",
    "                            raise ValueError\n",
    "        except ValueError:\n",
    "            pass\n",
    "        outputs[i] = abs(res) % 10\n",
    "    return outputs\n",
    "\n",
    "\n",
    "def one_phase_fft_efficient(inputs, base_pattern=(0, 1, 0, -1)):\n",
    "    \"\"\"A more efficient implementation, by skipping zero entries altogether\"\"\"\n",
    "    outputs = [0] * len(inputs)\n",
    "    for pos in range(len(inputs)):\n",
    "        res = 0\n",
    "        modulo = pos % len(inputs) + 1\n",
    "        i = modulo\n",
    "        # First pattern (+ skip first)\n",
    "        while i <= len(inputs):\n",
    "            res += sum(inputs[i - 1:i + modulo - 1])\n",
    "            res -= sum(inputs[i + 2 * modulo - 1: i + 3 * modulo - 1])\n",
    "            i += 4 * modulo\n",
    "        outputs[modulo - 1] = abs(res) % 10\n",
    "    return outputs\n",
    "\n",
    "\n",
    "def fft(inputs, num_phases, fft_fn=one_phase_fft, repeat_inputs=1):\n",
    "    \"\"\"If inputs repeat we can leverage a recurrence relationship:\n",
    "    \n",
    "    If inputs has length n, and if we note S the result of fft on `inputs`,\n",
    "    and T the results of fft on `inputs + inputs` then we have:\n",
    "    T[n + ceil(n/2)] = S[ceil(n / 2)] which are just the sum of \n",
    "    \"\"\"\n",
    "    outputs = [x for x in inputs]\n",
    "    for _ in range(num_phases):\n",
    "        outputs = fft_fn(outputs)\n",
    "    return ''.join(list(map(str, outputs)))\n",
    "\n",
    "\n",
    "import numpy as np\n",
    "def part2_fft(input_list, num_phases, num_repeats=10000):\n",
    "    \"\"\"Looking at the previous examples, we can see that whenever the offset is large \n",
    "    and the \"-1\" part of the pattern doesn't appear, then the output of FFT is \n",
    "    just a cumulative sum: For input x, for all index i > len(x) / 2, we have:\n",
    "        FFT(i) = sum(j=i to len(x))\n",
    "    Hence computing coefficients at the end of the list only requires knowing \n",
    "    inputs towards the end of the list too.\n",
    "    \n",
    "    We can use this trick in part 2 because the numbers we care about (offset\n",
    "    given by the first 7 numbers in the input) are towards the end of the list\n",
    "    \"\"\"\n",
    "    inputs = input_list[::-1]\n",
    "    offset = sum([v * 10**i for i, v in enumerate(inputs[-7:])])\n",
    "    if offset <= len(inputs) * num_repeats / 2:\n",
    "        print(\"Cannot use this trick use standard fft\")\n",
    "        return\n",
    "\n",
    "    # Compute only on inputs we will use\n",
    "    repeated = int(np.ceil(offset // len(inputs)))\n",
    "    precompute = inputs * (num_repeats - repeated - 1) + inputs[:-offset % len(inputs)]\n",
    "    \n",
    "    # Apply cumsum repeatedly\n",
    "    for _ in range(num_phases):\n",
    "        precompute = np.mod(np.cumsum(precompute), 10)\n",
    "    # Return 8 numbers\n",
    "    return sum([v * 10**i for i, v in enumerate(precompute[-8:])])"
   ]
  },
  {
   "cell_type": "code",
   "execution_count": 2,
   "metadata": {},
   "outputs": [
    {
     "name": "stdout",
     "output_type": "stream",
     "text": [
      "The first 8 digits of the fft are 19944447\n",
      "\n",
      "CPU times: user 12.3 s, sys: 34 ms, total: 12.3 s\n",
      "Wall time: 12.5 s\n"
     ]
    }
   ],
   "source": [
    "%%time\n",
    "with open(\"inputs/day16.txt\", 'r') as f:\n",
    "    inputs = list(map(int, f.read().splitlines()[0]))\n",
    "    \n",
    "print(\"The first 8 digits of the fft are {}\\n\".format(fft(inputs, 100)[:8]))"
   ]
  },
  {
   "cell_type": "code",
   "execution_count": 3,
   "metadata": {},
   "outputs": [
    {
     "name": "stdout",
     "output_type": "stream",
     "text": [
      "Comparing timing with efficient implementation (returns 19944447)\n",
      "\n",
      "CPU times: user 277 ms, sys: 1 µs, total: 277 ms\n",
      "Wall time: 279 ms\n"
     ]
    }
   ],
   "source": [
    "%%time\n",
    "print(\"Comparing timing with efficient implementation (returns {})\\n\".format(\n",
    "    fft(inputs, 100, fft_fn=one_phase_fft_efficient)[:8]))"
   ]
  },
  {
   "cell_type": "code",
   "execution_count": 5,
   "metadata": {},
   "outputs": [
    {
     "name": "stdout",
     "output_type": "stream",
     "text": [
      "The result for Part 2 is 81207421\n",
      "\n",
      "CPU times: user 816 ms, sys: 16 ms, total: 832 ms\n",
      "Wall time: 831 ms\n"
     ]
    }
   ],
   "source": [
    "%%time\n",
    "print(\"The result for Part 2 is {}\\n\".format(part2_fft(inputs, 100)))"
   ]
  }
 ],
 "metadata": {
  "kernelspec": {
   "display_name": "Python 3",
   "language": "python",
   "name": "python3"
  },
  "language_info": {
   "codemirror_mode": {
    "name": "ipython",
    "version": 3
   },
   "file_extension": ".py",
   "mimetype": "text/x-python",
   "name": "python",
   "nbconvert_exporter": "python",
   "pygments_lexer": "ipython3",
   "version": "3.8.5"
  }
 },
 "nbformat": 4,
 "nbformat_minor": 4
}
