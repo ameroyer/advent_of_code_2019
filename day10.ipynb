{
 "cells": [
  {
   "cell_type": "markdown",
   "metadata": {},
   "source": [
    "# 🍬 [Day 10](https://adventofcode.com/2019/day/10)"
   ]
  },
  {
   "cell_type": "code",
   "execution_count": 1,
   "metadata": {},
   "outputs": [],
   "source": [
    "import numpy as np\n",
    "from collections import defaultdict\n",
    "\n",
    "def parse_asteroids_field(inputs):\n",
    "    \"\"\"Parse the inputs\"\"\"\n",
    "    asteroids = []\n",
    "    for i, line in enumerate(inputs):\n",
    "        for j, c in enumerate(line):\n",
    "            if c == '#':\n",
    "                asteroids.append((i, j))\n",
    "    return np.array(asteroids, dtype=np.float32) \n",
    "\n",
    "\n",
    "def find_best_locations(asteroids):\n",
    "    \"\"\"Find best station location\"\"\"\n",
    "    num_views = 0\n",
    "    station = (0, 0)\n",
    "    flt = np.ones((asteroids.shape[0],))\n",
    "    for i, (x, y) in enumerate(asteroids):\n",
    "        # Switch to polar coordinates\n",
    "        polar_angle = np.arctan2(asteroids[:, 0] - x, asteroids[:, 1] - y)\n",
    "        # Count unique asteroids, ignoring self\n",
    "        s = len(np.unique(polar_angle))\n",
    "        # Update\n",
    "        if s > num_views:\n",
    "            num_views = s\n",
    "            station = (x, y)\n",
    "    return num_views, station\n",
    "\n",
    "\n",
    "def vaporize(asteroids, station, num=200):\n",
    "    \"\"\"Vaporize asteroids until reaching reqired count\"\"\"\n",
    "    # Polar coordinates\n",
    "    # invert y and x to sort from up direction and clockwise\n",
    "    x0, y0 = station\n",
    "    polar_angle = np.arctan2(asteroids[:, 1] - y0, asteroids[:, 0] - x0)\n",
    "    radius = np.sqrt((asteroids[:, 0] - x0)**2 + (asteroids[:, 1] - y0)**2)\n",
    "    \n",
    "    # Store asteroids per angle and sorted per radius\n",
    "    ordered = defaultdict(lambda: [])\n",
    "    for a, r in zip(polar_angle, radius):\n",
    "        if r > 0.:  # ignore the station itself\n",
    "            ordered[a].append(r)\n",
    "    for a in ordered:\n",
    "        ordered[a] = sorted(ordered[a])\n",
    "        \n",
    "    # Start to vaporize\n",
    "    vaporized = 0\n",
    "    while vaporized < num:\n",
    "        rotation = sorted(ordered, key=lambda x: -x) \n",
    "        for a in rotation:\n",
    "            vaporized += 1\n",
    "            if vaporized == num:\n",
    "                y = np.round(ordered[a][0] * np.cos(a) + x0)\n",
    "                x = np.round(ordered[a][0] * np.sin(a) + y0)\n",
    "                return int(x), int(y)\n",
    "            ordered[a].pop()\n",
    "            if len(ordered[a]) == 0:\n",
    "                del ordered[a]"
   ]
  },
  {
   "cell_type": "code",
   "execution_count": 2,
   "metadata": {},
   "outputs": [
    {
     "name": "stdout",
     "output_type": "stream",
     "text": [
      "The best locations sees 230 asteroids\n",
      "The 200th vaporized asteroid has coordinates (12, 5)\n"
     ]
    }
   ],
   "source": [
    "with open(\"inputs/day10.txt\", 'r') as f:\n",
    "    inputs = f.read().splitlines()\n",
    "    asteroids = parse_asteroids_field(inputs)\n",
    "\n",
    "    \n",
    "views, station = find_best_locations(asteroids)\n",
    "print(\"The best locations sees {} asteroids\".format(views))\n",
    "\n",
    "print(\"The 200th vaporized asteroid has coordinates {}\".format(vaporize(asteroids, station, num=200)))"
   ]
  }
 ],
 "metadata": {
  "kernelspec": {
   "display_name": "Python 3",
   "language": "python",
   "name": "python3"
  },
  "language_info": {
   "codemirror_mode": {
    "name": "ipython",
    "version": 3
   },
   "file_extension": ".py",
   "mimetype": "text/x-python",
   "name": "python",
   "nbconvert_exporter": "python",
   "pygments_lexer": "ipython3",
   "version": "3.8.5"
  }
 },
 "nbformat": 4,
 "nbformat_minor": 4
}
