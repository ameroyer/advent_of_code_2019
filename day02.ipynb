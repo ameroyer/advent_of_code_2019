{
 "cells": [
  {
   "cell_type": "markdown",
   "metadata": {
    "ExecuteTime": {
     "end_time": "2019-12-04T10:06:50.869827Z",
     "start_time": "2019-12-04T10:06:50.865802Z"
    }
   },
   "source": [
    "# 🎁 [Day 2](https://adventofcode.com/2019/day/2)"
   ]
  },
  {
   "cell_type": "code",
   "execution_count": 1,
   "metadata": {
    "ExecuteTime": {
     "end_time": "2019-12-22T23:20:45.642145Z",
     "start_time": "2019-12-22T23:20:45.621235Z"
    }
   },
   "outputs": [],
   "source": [
    "def run_program(p):\n",
    "    op = 0\n",
    "    while p[op] != 99:\n",
    "        ix, iy, dst = p[op + 1:op + 4]\n",
    "        result = p[ix] + p[iy] if p[op] == 1 else p[ix] * p[iy]\n",
    "        p[dst] = result\n",
    "        op += 4\n",
    "        \n",
    "def alarm_1202(program):\n",
    "    p = [x for x in program]\n",
    "    p[1] = 12\n",
    "    p[2] = 2\n",
    "    run_program(p)\n",
    "    return p[0]"
   ]
  },
  {
   "cell_type": "code",
   "execution_count": 2,
   "metadata": {
    "ExecuteTime": {
     "end_time": "2019-12-22T23:20:45.658673Z",
     "start_time": "2019-12-22T23:20:45.643940Z"
    }
   },
   "outputs": [
    {
     "name": "stdout",
     "output_type": "stream",
     "text": [
      "1202 program alarm: 3409710\n"
     ]
    }
   ],
   "source": [
    "with open(\"inputs/day2.txt\", 'r') as f:\n",
    "    inputs = list(map(int, f.read().split(',')))\n",
    "    \n",
    "print('1202 program alarm:', alarm_1202(inputs))"
   ]
  },
  {
   "cell_type": "markdown",
   "metadata": {},
   "source": [
    "For the second part, first do some reverse engineering to see what the code is doing. It seems that the second output (verb), only impact the result of the program as a linear factor (`ar[131] <- X2 + ar[127]`)\n",
    "\n",
    "Therefore we do not need to loop over every value, as the relationship is pretty simple. On the other hand, the first value has a more nested impact as it modify pointers too."
   ]
  },
  {
   "cell_type": "code",
   "execution_count": 3,
   "metadata": {
    "ExecuteTime": {
     "end_time": "2019-12-22T23:20:45.774941Z",
     "start_time": "2019-12-22T23:20:45.660838Z"
    }
   },
   "outputs": [
    {
     "name": "stdout",
     "output_type": "stream",
     "text": [
      "       (4): ar[19] <- 5 x \u001b[1mnoun\u001b[0m\n",
      "      (5): ar[23] <- ar[19] + 3\n",
      "     (6): ar[27] <- 1 + ar[23]\n",
      "    (7): ar[31] <- ar[27] + 3\n",
      "        (25): ar[103] <- 3 + ar[ar[27]]\n",
      "       (26): ar[107] <- ar[ar[27]] + ar[103]\n",
      "      (27): ar[111] <- 3 x ar[107]\n",
      "     (28): ar[115] <- ar[111] + 1\n",
      "    (29): ar[119] <- ar[115] + ar[ar[31]]\n",
      "   (30): ar[123] <- ar[ar[31]] + ar[119]\n",
      "  (31): ar[127] <- 5 + ar[123]\n",
      " (32): ar[131] <- \u001b[1mverb\u001b[0m + ar[127]\n",
      " (8): ar[35] <- 2 + ar[31]\n",
      "(33): ar[0] <- ar[131] + ar[ar[35]]\n"
     ]
    }
   ],
   "source": [
    "def find_latest(p, ops, dst, shift=0):\n",
    "    for i, (j, op, ix, iy, d) in enumerate(ops[::-1]):\n",
    "        if d == dst:\n",
    "            ops_fst_param = find_latest(p, ops[:-i-1], j + 1, shift + 1)   \n",
    "            if len(ops_fst_param) == 0:\n",
    "                ops_fst_src = find_latest(p, ops[:-i-1], ix, shift + 1)\n",
    "                if len(ops_fst_src) == 0:           \n",
    "                    if ix == 1:\n",
    "                        x = \"\\033[1mnoun\\033[0m\"\n",
    "                    elif ix == 2:\n",
    "                        x = \"\\033[1mverb\\033[0m\"\n",
    "                    else: \n",
    "                        x = str(p[ix])   \n",
    "                else:\n",
    "                    x = \"ar[{}]\".format(ix)\n",
    "            else:\n",
    "                ops_fst_src = []\n",
    "                x = \"ar[ar[{}]]\".format(j + 1)\n",
    "                \n",
    "            ops_snd_param = find_latest(p, ops[:-i-1], j + 2, shift  +1)\n",
    "            if len(ops_snd_param) == 0:\n",
    "                ops_snd_src = find_latest(p, ops[:-i-1], iy, shift + 1)\n",
    "                if len(ops_snd_src) == 0:   \n",
    "                    if iy == 1:\n",
    "                        y = \"\\033[1mnoun\\033[0m\"\n",
    "                    elif iy == 2:\n",
    "                        y = \"\\033[1mverb\\033[0m\"\n",
    "                    else: \n",
    "                        y = str(p[iy]) \n",
    "                else:\n",
    "                    y = \"ar[{}]\".format(iy)\n",
    "            else:\n",
    "                ops_snd_src = []\n",
    "                y = \"ar[ar[{}]]\".format(j + 2)\n",
    "                \n",
    "            s = \"{}({}): ar[{}] <- {} {} {}\".format(\n",
    "                ' ' * shift, j, d, x, '+' if op == 1 else 'x', y)\n",
    "            return ops_fst_param + ops_fst_src + ops_snd_param + ops_snd_src + [(j, s)]\n",
    "    return []\n",
    "\n",
    "def reverse_engineer(program):\n",
    "    p = [x for x in program]\n",
    "    \n",
    "    # Parse the program\n",
    "    ops = []\n",
    "    op = 0\n",
    "    while p[op] != 99:\n",
    "        ix, iy, dst = p[op + 1:op + 4]\n",
    "        ops.append((op // 4, p[op], ix, iy, dst))\n",
    "        op += 4\n",
    "        \n",
    "    # Remove duplicate operations\n",
    "    strings = find_latest(p, ops, 0)\n",
    "    seen = []\n",
    "    for i, s in strings:\n",
    "        if not i in seen:\n",
    "            print(s)\n",
    "            seen.append(i)\n",
    "    \n",
    "reverse_engineer(inputs)"
   ]
  },
  {
   "cell_type": "code",
   "execution_count": 4,
   "metadata": {
    "ExecuteTime": {
     "end_time": "2019-12-22T23:20:45.787474Z",
     "start_time": "2019-12-22T23:20:45.776368Z"
    }
   },
   "outputs": [
    {
     "name": "stdout",
     "output_type": "stream",
     "text": [
      "Target noun and verb: 7912\n"
     ]
    }
   ],
   "source": [
    "def run(program, rng=99, target=19690720):\n",
    "    for x1 in range(rng):\n",
    "        p = [x for x in program]  \n",
    "        p[2] = 0\n",
    "        p[1] = x1\n",
    "        run_program(p)\n",
    "        if 0 <= (target - p[0]) <= rng:\n",
    "            x2 = target - p[0]\n",
    "            return 100 * x1 + x2\n",
    "    \n",
    "            \n",
    "print(\"Target noun and verb:\", run(inputs))"
   ]
  }
 ],
 "metadata": {
  "kernelspec": {
   "display_name": "Python 3",
   "language": "python",
   "name": "python3"
  },
  "language_info": {
   "codemirror_mode": {
    "name": "ipython",
    "version": 3
   },
   "file_extension": ".py",
   "mimetype": "text/x-python",
   "name": "python",
   "nbconvert_exporter": "python",
   "pygments_lexer": "ipython3",
   "version": "3.5.3"
  },
  "latex_envs": {
   "LaTeX_envs_menu_present": true,
   "autoclose": false,
   "autocomplete": true,
   "bibliofile": "biblio.bib",
   "cite_by": "apalike",
   "current_citInitial": 1,
   "eqLabelWithNumbers": true,
   "eqNumInitial": 1,
   "hotkeys": {
    "equation": "Ctrl-E",
    "itemize": "Ctrl-I"
   },
   "labels_anchors": false,
   "latex_user_defs": false,
   "report_style_numbering": false,
   "user_envs_cfg": false
  }
 },
 "nbformat": 4,
 "nbformat_minor": 2
}
