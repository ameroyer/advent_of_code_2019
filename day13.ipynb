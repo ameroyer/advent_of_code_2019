{
 "cells": [
  {
   "cell_type": "markdown",
   "metadata": {},
   "source": [
    "# 🍭 [Day 13](https://adventofcode.com/2019/day/13)"
   ]
  },
  {
   "cell_type": "code",
   "execution_count": 1,
   "metadata": {},
   "outputs": [],
   "source": [
    "def run_program(p, inputs, init_op=0, init_base=0):\n",
    "    #Inputs are given in reverse order (pop)\n",
    "    op = init_op\n",
    "    relative_base = init_base\n",
    "    last_diagnostic = []\n",
    "    while p[op] != 99:\n",
    "        codes = \"%05d\" % p[op]\n",
    "        codes = [int(codes[0]), int(codes[1]), int(codes[2]), int(codes[3:])]\n",
    "        # inputs\n",
    "        if codes[-1] == 3:\n",
    "            if not len(inputs):\n",
    "                # Game is waiting for next move\n",
    "                break\n",
    "            assert codes[1] == 0\n",
    "            p[p[op + 1] + (relative_base if codes[2] == 2 else 0)] = inputs.pop()\n",
    "            op += 2\n",
    "        # unary ops\n",
    "        elif codes[-1] in  [4, 9]:\n",
    "            # read parameter\n",
    "            assert codes[1] == 0\n",
    "            param = p[op + 1]\n",
    "            if (codes[2] % 2) == 0:\n",
    "                try:\n",
    "                    param = p[param + (relative_base if codes[2] == 2 else 0)]\n",
    "                except IndexError:\n",
    "                    param = 0\n",
    "            # output\n",
    "            if codes[-1] == 4:\n",
    "                last_diagnostic.append(param)\n",
    "            # update relative base\n",
    "            else:\n",
    "                relative_base += param\n",
    "            # next instr\n",
    "            op += 2\n",
    "        else:\n",
    "            # read parameters in correct mode\n",
    "            x, y = p[op + 1:op + 3]\n",
    "            if (codes[2] % 2) == 0:\n",
    "                try:\n",
    "                    x = p[x + (relative_base if codes[2] == 2 else 0)]\n",
    "                except IndexError:\n",
    "                    x = 0\n",
    "            if not (codes[1] % 2):\n",
    "                try:\n",
    "                    y = p[y + (relative_base if codes[1] == 2 else 0)]\n",
    "                except IndexError:\n",
    "                    y = 0\n",
    "            # Read target and allocate more memory if needed\n",
    "            target = p[op + 3] + (relative_base if codes[0] == 2 else 0)\n",
    "            if target >= len(p): \n",
    "                p += [0] * (target - len(p) + 1)\n",
    "            # addition and multiplication\n",
    "            if codes[-1] in [1, 2]:\n",
    "                p[target] = x + y if codes[-1] == 1 else x * y\n",
    "                op += 4\n",
    "            # Comparison result\n",
    "            elif codes[-1] == 7:\n",
    "                p[target] = int(x < y)\n",
    "                op += 4\n",
    "            elif codes[-1] == 8:\n",
    "                p[target] = int(x == y)\n",
    "                op += 4\n",
    "            # Jump if eq\n",
    "            elif (codes[-1] == 5 and x != 0) or (codes[-1] == 6 and x == 0):\n",
    "                op = y  \n",
    "            # Jump instruction that failed their test\n",
    "            else:\n",
    "                op += 3\n",
    "    return last_diagnostic, 0, op, relative_base\n",
    "\n",
    "\n",
    "def count_block_tiles(program):\n",
    "    p = [x for x in program]\n",
    "    outputs = run_program(p, [])[0]\n",
    "    num_block_tiles = sum(int(x == 2) for x in outputs[2::3])\n",
    "    return num_block_tiles"
   ]
  },
  {
   "cell_type": "code",
   "execution_count": 2,
   "metadata": {},
   "outputs": [],
   "source": [
    "## Display the game\n",
    "import numpy as np\n",
    "from matplotlib import pyplot as plt \n",
    "\n",
    "def display_game(outputs):\n",
    "    xs, ys, types = zip(*[outputs[i * 3:i * 3 + 3] for i in range(len(outputs) // 3)])\n",
    "    minx, maxx = min(xs), max(xs)\n",
    "    miny, maxy = min(ys), max(ys)\n",
    "    arr = np.zeros((maxx + 1, maxy + 1))\n",
    "    scores = []\n",
    "    for x, y, t in zip(xs, ys, types):\n",
    "        if x == -1 and y == 0:\n",
    "            scores.append(t)\n",
    "        else:\n",
    "            arr[x, y] = t\n",
    "    plt.imshow(arr.transpose(), cmap='nipy_spectral')\n",
    "    plt.axis('off')\n",
    "    if len(scores):\n",
    "        plt.title(\"Score = {}\".format(scores[-1]))\n",
    "    plt.show()"
   ]
  },
  {
   "cell_type": "code",
   "execution_count": 3,
   "metadata": {},
   "outputs": [],
   "source": [
    "import time\n",
    "\n",
    "def solve_game(program, display_landmarks=[200, 150, 100, 50, 10, 5, 4, 3, 2, 1, 0]):\n",
    "    # Initial ball position\n",
    "    p = [x for x in program]\n",
    "    outputs = run_program(p, [])[0]\n",
    "    last_ball_x = [outputs[i * 3] for i in range(len(outputs) // 3)\n",
    "                   if outputs[i * 3 + 2] == 4 ][0]\n",
    "    \n",
    "    # Find next move to play\n",
    "    def find_next_joystick_move(out):\n",
    "        nonlocal last_ball_x\n",
    "        ball_x, paddle_x = None, None\n",
    "        score = None\n",
    "        block_left = 0\n",
    "        # Parse the game screen\n",
    "        for i in range(len(out) // 3):\n",
    "            if out[i * 3 + 2] == 4:\n",
    "                ball_x = out[i * 3]\n",
    "            elif out[i * 3 + 2] == 3:\n",
    "                paddle_x = out[i * 3]\n",
    "            elif out[i * 3] == -1 and out[i * 3 + 1] == 0:\n",
    "                score = out[i * 3 + 2]\n",
    "            elif out[i * 3 + 2] ==  2:\n",
    "                block_left += 1\n",
    "        next_move = 1 if paddle_x < ball_x else -1 if paddle_x > ball_x else 0\n",
    "        last_ball_x = ball_x\n",
    "        return next_move, score, block_left\n",
    "    \n",
    "    # start to play\n",
    "    p[0] = 2\n",
    "    next_move = 0\n",
    "    score, op, base = 0, 0, 0\n",
    "    start = time.time()\n",
    "    while 1:\n",
    "        out, _, op, base = run_program(p, [next_move])\n",
    "        next_move, score, block_left = find_next_joystick_move(out)\n",
    "        # Verbose mode\n",
    "        if block_left <= display_landmarks[0]:\n",
    "            print(\"{} blocks left [{:.2f}s]\".format(block_left, time.time() - start))\n",
    "            display_game(out)\n",
    "            display_landmarks = display_landmarks[1:]\n",
    "        if block_left <= 0:\n",
    "            break\n",
    "    print(\"Final Score: {}\".format(score))"
   ]
  },
  {
   "cell_type": "code",
   "execution_count": 4,
   "metadata": {},
   "outputs": [
    {
     "name": "stdout",
     "output_type": "stream",
     "text": [
      "The game screen has 213 block tiles\n"
     ]
    },
    {
     "data": {
      "image/png": "[encoded data removed]",
      "text/plain": [
       "<Figure size 432x288 with 1 Axes>"
      ]
     },
     "metadata": {
      "needs_background": "light"
     },
     "output_type": "display_data"
    }
   ],
   "source": [
    "with open(\"inputs/day13.txt\", 'r') as f:\n",
    "    inputs = list(map(int, f.read().split(',')))\n",
    "    \n",
    "print(\"The game screen has {} block tiles\".format(count_block_tiles(inputs)))\n",
    "display_game(run_program([x for x in inputs], [])[0])"
   ]
  },
  {
   "cell_type": "code",
   "execution_count": 5,
   "metadata": {},
   "outputs": [
    {
     "name": "stdout",
     "output_type": "stream",
     "text": [
      "First paddle bounce\n"
     ]
    },
    {
     "data": {
      "image/png": "[encoded data removed]",
      "text/plain": [
       "<Figure size 432x288 with 1 Axes>"
      ]
     },
     "metadata": {
      "needs_background": "light"
     },
     "output_type": "display_data"
    },
    {
     "name": "stdout",
     "output_type": "stream",
     "text": [
      "First block hit\n"
     ]
    },
    {
     "data": {
      "image/png": "[encoded data removed]",
      "text/plain": [
       "<Figure size 432x288 with 1 Axes>"
      ]
     },
     "metadata": {
      "needs_background": "light"
     },
     "output_type": "display_data"
    },
    {
     "name": "stdout",
     "output_type": "stream",
     "text": [
      "Score is updated\n"
     ]
    },
    {
     "data": {
      "image/png": "[encoded data removed]",
      "text/plain": [
       "<Figure size 432x288 with 1 Axes>"
      ]
     },
     "metadata": {
      "needs_background": "light"
     },
     "output_type": "display_data"
    }
   ],
   "source": [
    "## let's try a few move\n",
    "inputs[0] = 2\n",
    "print(\"First paddle bounce\")\n",
    "display_game(run_program([x for x in inputs], [0, 0])[0])\n",
    "print(\"First block hit\")\n",
    "display_game(run_program([x for x in inputs], [0, 0, 0, 0, 0 ])[0])\n",
    "print(\"Score is updated\")\n",
    "display_game(run_program([x for x in inputs], [0, 0, 0, 0, 0, 0 ])[0])"
   ]
  },
  {
   "cell_type": "code",
   "execution_count": 6,
   "metadata": {},
   "outputs": [
    {
     "name": "stdout",
     "output_type": "stream",
     "text": [
      "199 blocks left [1.88s]\n"
     ]
    },
    {
     "data": {
      "image/png": "[encoded data removed]",
      "text/plain": [
       "<Figure size 432x288 with 1 Axes>"
      ]
     },
     "metadata": {
      "needs_background": "light"
     },
     "output_type": "display_data"
    },
    {
     "name": "stdout",
     "output_type": "stream",
     "text": [
      "150 blocks left [10.78s]\n"
     ]
    },
    {
     "data": {
      "image/png": "[encoded data removed]",
      "text/plain": [
       "<Figure size 432x288 with 1 Axes>"
      ]
     },
     "metadata": {
      "needs_background": "light"
     },
     "output_type": "display_data"
    },
    {
     "name": "stdout",
     "output_type": "stream",
     "text": [
      "100 blocks left [18.97s]\n"
     ]
    },
    {
     "data": {
      "image/png": "[encoded data removed]",
      "text/plain": [
       "<Figure size 432x288 with 1 Axes>"
      ]
     },
     "metadata": {
      "needs_background": "light"
     },
     "output_type": "display_data"
    },
    {
     "name": "stdout",
     "output_type": "stream",
     "text": [
      "50 blocks left [29.76s]\n"
     ]
    },
    {
     "data": {
      "image/png": "[encoded data removed]",
      "text/plain": [
       "<Figure size 432x288 with 1 Axes>"
      ]
     },
     "metadata": {
      "needs_background": "light"
     },
     "output_type": "display_data"
    },
    {
     "name": "stdout",
     "output_type": "stream",
     "text": [
      "10 blocks left [84.64s]\n"
     ]
    },
    {
     "data": {
      "image/png": "[encoded data removed]",
      "text/plain": [
       "<Figure size 432x288 with 1 Axes>"
      ]
     },
     "metadata": {
      "needs_background": "light"
     },
     "output_type": "display_data"
    },
    {
     "name": "stdout",
     "output_type": "stream",
     "text": [
      "5 blocks left [102.02s]\n"
     ]
    },
    {
     "data": {
      "image/png": "[encoded data removed]",
      "text/plain": [
       "<Figure size 432x288 with 1 Axes>"
      ]
     },
     "metadata": {
      "needs_background": "light"
     },
     "output_type": "display_data"
    },
    {
     "name": "stdout",
     "output_type": "stream",
     "text": [
      "4 blocks left [113.13s]\n"
     ]
    },
    {
     "data": {
      "image/png": "[encoded data removed]",
      "text/plain": [
       "<Figure size 432x288 with 1 Axes>"
      ]
     },
     "metadata": {
      "needs_background": "light"
     },
     "output_type": "display_data"
    },
    {
     "name": "stdout",
     "output_type": "stream",
     "text": [
      "3 blocks left [125.72s]\n"
     ]
    },
    {
     "data": {
      "image/png": "[encoded data removed]",
      "text/plain": [
       "<Figure size 432x288 with 1 Axes>"
      ]
     },
     "metadata": {
      "needs_background": "light"
     },
     "output_type": "display_data"
    },
    {
     "name": "stdout",
     "output_type": "stream",
     "text": [
      "2 blocks left [141.65s]\n"
     ]
    },
    {
     "data": {
      "image/png": "[encoded data removed]",
      "text/plain": [
       "<Figure size 432x288 with 1 Axes>"
      ]
     },
     "metadata": {
      "needs_background": "light"
     },
     "output_type": "display_data"
    },
    {
     "name": "stdout",
     "output_type": "stream",
     "text": [
      "1 blocks left [157.47s]\n"
     ]
    },
    {
     "data": {
      "image/png": "[encoded data removed]",
      "text/plain": [
       "<Figure size 432x288 with 1 Axes>"
      ]
     },
     "metadata": {
      "needs_background": "light"
     },
     "output_type": "display_data"
    },
    {
     "name": "stdout",
     "output_type": "stream",
     "text": [
      "0 blocks left [172.68s]\n"
     ]
    },
    {
     "data": {
      "image/png": "[encoded data removed]",
      "text/plain": [
       "<Figure size 432x288 with 1 Axes>"
      ]
     },
     "metadata": {
      "needs_background": "light"
     },
     "output_type": "display_data"
    },
    {
     "name": "stdout",
     "output_type": "stream",
     "text": [
      "Final Score: 11441\n"
     ]
    }
   ],
   "source": [
    "# Play the game and display some keyframes + execution time\n",
    "out = solve_game(inputs)"
   ]
  }
 ],
 "metadata": {
  "kernelspec": {
   "display_name": "Python 3",
   "language": "python",
   "name": "python3"
  },
  "language_info": {
   "codemirror_mode": {
    "name": "ipython",
    "version": 3
   },
   "file_extension": ".py",
   "mimetype": "text/x-python",
   "name": "python",
   "nbconvert_exporter": "python",
   "pygments_lexer": "ipython3",
   "version": "3.8.5"
  }
 },
 "nbformat": 4,
 "nbformat_minor": 4
}
