{
 "cells": [
  {
   "cell_type": "markdown",
   "metadata": {
    "hide_input": false
   },
   "source": [
    "# 🌠 [Day 4](https://adventofcode.com/2019/day/4)"
   ]
  },
  {
   "cell_type": "code",
   "execution_count": 1,
   "metadata": {
    "ExecuteTime": {
     "end_time": "2019-12-13T13:17:16.599434Z",
     "start_time": "2019-12-13T13:17:16.341678Z"
    }
   },
   "outputs": [],
   "source": [
    "def next_password(n):\n",
    "    \"\"\"Given integer n, returns the first integer that meets the password \n",
    "    criterion and is strictly larger than n.\n",
    "    The criterion is:\n",
    "        - increasing digits\n",
    "        - at least one repetition of at least two consecutive numbers\n",
    "    \"\"\"\n",
    "    repeat = False\n",
    "    digits = list(map(int, \"%06d\" % (n + 1)))\n",
    "    next_digits = [max(1, digits[0])]\n",
    "    # Build the smallest integer that follows the non-decreasing criterion\n",
    "    for i, d in enumerate(digits[1:]):\n",
    "        if d <= next_digits[i]:\n",
    "            repeat = True\n",
    "            next_digits.append(next_digits[i])\n",
    "        else:\n",
    "            next_digits.append(d)\n",
    "            \n",
    "    # If there was no repetition so far, change the two last digits \n",
    "    # (smallest number) accordingly\n",
    "    if not repeat:\n",
    "        if next_digits[-1] > next_digits[-2]:    # e.g. 59 -> 66\n",
    "            next_digits[-2] += 1\n",
    "        next_digits[-1] = next_digits[-2]  \n",
    "    return int(''.join(map(str, next_digits)))\n",
    "\n",
    "\n",
    "def next_password2(n):\n",
    "    \"\"\"Given integer n, returns the first integer that meets the password \n",
    "    criterion and is strictly larger than n.\n",
    "    The criterion is:\n",
    "        - increasing digits\n",
    "        - at least one repetition of exactly two consecutive numbers\n",
    "    \"\"\"\n",
    "    repeat = [] # stack new number if it repeats, unstack it if more than twice\n",
    "    current_repeats = 1\n",
    "    digits = list(map(int, \"%06d\" % (n + 1)))\n",
    "    next_digits = [max(1, digits[0])]\n",
    "    current = max(1, digits[0])\n",
    "    for i, d in enumerate(digits[1:]):\n",
    "        if d <= next_digits[i]:\n",
    "            # If already two repetitions: remove\n",
    "            if len(repeat) and repeat[-1] == next_digits[i]:\n",
    "                repeat = repeat[:-1]\n",
    "            # If not already repeated: add\n",
    "            elif current_repeats < 2:\n",
    "                repeat.append(next_digits[i])\n",
    "            next_digits.append(next_digits[i])\n",
    "            current_repeats += 1\n",
    "        else:\n",
    "            next_digits.append(d)\n",
    "            current_repeats = 1\n",
    "            \n",
    "    # If there was no repetition of length exactly so far, change the two \n",
    "    # last digits accordingly\n",
    "    if not len(repeat):\n",
    "        # First case: there are different, same as before\n",
    "        if next_digits[-1] != next_digits[-2]:\n",
    "            if next_digits[-1] > next_digits[-2]:\n",
    "                next_digits[-2] += 1\n",
    "            next_digits[-1] = next_digits[-2]  \n",
    "        # Second case: there are the same in which case they must be part of \n",
    "        # a longer sequence\n",
    "        else:\n",
    "            # Edge case: solve via a recursive call\n",
    "            if next_digits[-1] == 9:\n",
    "                nxt =  int(''.join(map(str, next_digits)))\n",
    "                return next_password2(nxt)\n",
    "            # If this is a sequence of length 3, we only need to change the \n",
    "            # last digit to reduce it to length 2\n",
    "            elif (next_digits[-3] == next_digits[-2] and \n",
    "                next_digits[-4] != next_digits[-3]):\n",
    "                next_digits[-1] += 1\n",
    "            # Otherwise we just modify the two last numbers so that they are \n",
    "            # repeating exactly twice\n",
    "            else:\n",
    "                next_digits[-2] += 1\n",
    "                next_digits[-1] += 1\n",
    "    return int(''.join(map(str, next_digits)))\n",
    "\n",
    "\n",
    "def get_num_passwords(start, end, criterion=next_password):\n",
    "    num = -1\n",
    "    p = start - 1\n",
    "    while p < end:\n",
    "        num += 1\n",
    "        p = criterion(p)\n",
    "    return num"
   ]
  },
  {
   "cell_type": "code",
   "execution_count": 2,
   "metadata": {
    "ExecuteTime": {
     "end_time": "2019-12-13T13:17:16.614041Z",
     "start_time": "2019-12-13T13:17:16.601803Z"
    }
   },
   "outputs": [
    {
     "name": "stdout",
     "output_type": "stream",
     "text": [
      "Number of passwords under the first criterion: 460\n",
      "Number of passwords under the second criterion: 290\n"
     ]
    }
   ],
   "source": [
    "start = 382345\n",
    "end = 843167\n",
    "\n",
    "print(\"Number of passwords under the first criterion:\", get_num_passwords(start, end))\n",
    "print(\"Number of passwords under the second criterion:\", get_num_passwords(\n",
    "    start, end, criterion=next_password2))"
   ]
  },
  {
   "cell_type": "code",
   "execution_count": 3,
   "metadata": {
    "ExecuteTime": {
     "end_time": "2019-12-13T13:17:17.409315Z",
     "start_time": "2019-12-13T13:17:16.615925Z"
    }
   },
   "outputs": [
    {
     "data": {
      "image/png": "[encoded data removed]",
      "text/plain": [
       "<Figure size 864x864 with 1 Axes>"
      ]
     },
     "metadata": {},
     "output_type": "display_data"
    }
   ],
   "source": [
    "import numpy as np\n",
    "from matplotlib import pyplot as plt\n",
    "\n",
    "def plot_passwords_distribution(start, end, criterion=next_password):\n",
    "    pwds = np.zeros((end - start + 1))\n",
    "    p = criterion(start - 1)\n",
    "    while p < end:\n",
    "        pwds[p - start] = 1\n",
    "        p = criterion(p)\n",
    "    n = int(np.ceil(np.sqrt(pwds.shape[0])))\n",
    "    m = pwds.shape[0] // n + 1\n",
    "    pwds = np.pad(pwds, (0, m * n - pwds.shape[0]), constant_values=1.6, mode=\"constant\")\n",
    "    pwds = np.reshape(pwds, (n, m))\n",
    "    plt.figure(figsize=(12, 12))\n",
    "    plt.imshow(pwds, cmap=\"gnuplot2\", origin=\"upper\")\n",
    "    plt.title(\"Passwords distribution\", fontsize=20)\n",
    "    plt.axis('off')\n",
    "    plt.show()\n",
    "    \n",
    "plot_passwords_distribution(start, end)"
   ]
  }
 ],
 "metadata": {
  "kernelspec": {
   "display_name": "Python 3",
   "language": "python",
   "name": "python3"
  },
  "language_info": {
   "codemirror_mode": {
    "name": "ipython",
    "version": 3
   },
   "file_extension": ".py",
   "mimetype": "text/x-python",
   "name": "python",
   "nbconvert_exporter": "python",
   "pygments_lexer": "ipython3",
   "version": "3.5.3"
  }
 },
 "nbformat": 4,
 "nbformat_minor": 2
}
