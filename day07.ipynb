{
 "cells": [
  {
   "cell_type": "markdown",
   "metadata": {},
   "source": [
    "# ❄️  [Day 7](https://adventofcode.com/2019/day/7)"
   ]
  },
  {
   "cell_type": "code",
   "execution_count": 1,
   "metadata": {
    "ExecuteTime": {
     "end_time": "2019-12-22T23:56:04.350381Z",
     "start_time": "2019-12-22T23:56:04.249762Z"
    }
   },
   "outputs": [],
   "source": [
    "def run_program(p, inputs, early_exit=False):\n",
    "    op = 0\n",
    "    last_diagnostic = None\n",
    "    while p[op] != 99:\n",
    "        codes = \"%05d\" % p[op]\n",
    "        codes = [int(codes[0]), int(codes[1]), int(codes[2]), int(codes[3:])]\n",
    "        assert codes[0] == 0\n",
    "        # Outputs\n",
    "        if codes[-1] == 4:\n",
    "            last_diagnostic = p[p[op + 1]]\n",
    "            op += 2\n",
    "            if early_exit:\n",
    "                return last_diagnostic, 1\n",
    "        # Inputs\n",
    "        elif codes[-1] == 3:\n",
    "            assert codes[1] == codes[2] == 0\n",
    "            p[p[op + 1]] = inputs.pop()\n",
    "            op += 2\n",
    "        else:\n",
    "            x, y = p[op + 1:op + 3]\n",
    "            x = p[x] if codes[2] == 0 else x\n",
    "            y = p[y] if codes[1] == 0 else y\n",
    "            # addition and multiplication\n",
    "            if codes[-1] in [1, 2]:\n",
    "                p[p[op + 3]] = x + y if codes[-1] == 1 else x * y\n",
    "                op += 4\n",
    "            # Comparison result\n",
    "            elif codes[-1] == 7:\n",
    "                p[p[op + 3]] = int(x < y)\n",
    "                op += 4\n",
    "            elif codes[-1] == 8:\n",
    "                p[p[op + 3]] = int(x == y)\n",
    "                op += 4\n",
    "            # Jump if eq\n",
    "            elif (codes[-1] == 5 and x != 0) or (codes[-1] == 6 and x == 0):\n",
    "                op = y  \n",
    "            # Jump instruction that failed their test\n",
    "            else:\n",
    "                op += 3\n",
    "    return last_diagnostic, 0\n",
    "\n",
    "def max_signal(program, num_amplifiers=5, taken=[], in_=0):\n",
    "    current_max = 0\n",
    "    assignment = []\n",
    "    for s in [x for x in range(num_amplifiers) if x not in taken]:\n",
    "        output, _ = run_program([x for x in program], [in_, s], early_exit=False)\n",
    "        if len(taken) == num_amplifiers - 1:\n",
    "            return output, taken + [s]\n",
    "        else:\n",
    "            c, a = max_signal(program, in_=output, taken=taken + [s])\n",
    "        if c > current_max:\n",
    "            current_max = c\n",
    "            assignment = a\n",
    "    return current_max, assignment"
   ]
  },
  {
   "cell_type": "code",
   "execution_count": 2,
   "metadata": {
    "ExecuteTime": {
     "end_time": "2019-12-22T23:56:04.376486Z",
     "start_time": "2019-12-22T23:56:04.351975Z"
    }
   },
   "outputs": [
    {
     "name": "stdout",
     "output_type": "stream",
     "text": [
      "Maximum thruster signal 422858 with phase settings [3, 1, 4, 2, 0]\n"
     ]
    }
   ],
   "source": [
    "with open(\"inputs/day7.txt\", 'r') as f:\n",
    "    inputs = list(map(int, f.read().split(',')))\n",
    "    \n",
    "print(\"Maximum thruster signal {} with phase settings {}\".format(*max_signal(inputs)))"
   ]
  }
 ],
 "metadata": {
  "kernelspec": {
   "display_name": "Python 3",
   "language": "python",
   "name": "python3"
  },
  "language_info": {
   "codemirror_mode": {
    "name": "ipython",
    "version": 3
   },
   "file_extension": ".py",
   "mimetype": "text/x-python",
   "name": "python",
   "nbconvert_exporter": "python",
   "pygments_lexer": "ipython3",
   "version": "3.5.3"
  }
 },
 "nbformat": 4,
 "nbformat_minor": 2
}
