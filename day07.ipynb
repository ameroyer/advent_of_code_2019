{
 "cells": [
  {
   "cell_type": "markdown",
   "metadata": {},
   "source": [
    "# ❄️  [Day 7](https://adventofcode.com/2019/day/7)"
   ]
  },
  {
   "cell_type": "code",
   "execution_count": 46,
   "metadata": {
    "ExecuteTime": {
     "end_time": "2019-12-22T23:56:04.350381Z",
     "start_time": "2019-12-22T23:56:04.249762Z"
    }
   },
   "outputs": [],
   "source": [
    "def run_program(p, inputs, init_op=0, early_exit=False):\n",
    "    #Inputs are given in reverse order (pop)\n",
    "    op = init_op\n",
    "    last_diagnostic = None\n",
    "    while p[op] != 99:\n",
    "        codes = \"%05d\" % p[op]\n",
    "        codes = [int(codes[0]), int(codes[1]), int(codes[2]), int(codes[3:])]\n",
    "        assert codes[0] == 0\n",
    "        # Outputs\n",
    "        if codes[-1] == 4:\n",
    "            last_diagnostic = p[p[op + 1]]\n",
    "            op += 2\n",
    "            if early_exit:\n",
    "                return last_diagnostic, 1, op\n",
    "        # Inputs\n",
    "        elif codes[-1] == 3:\n",
    "            assert codes[1] == codes[2] == 0\n",
    "            p[p[op + 1]] = inputs.pop()\n",
    "            op += 2\n",
    "        else:\n",
    "            x, y = p[op + 1:op + 3]\n",
    "            x = p[x] if codes[2] == 0 else x\n",
    "            y = p[y] if codes[1] == 0 else y\n",
    "            # addition and multiplication\n",
    "            if codes[-1] in [1, 2]:\n",
    "                p[p[op + 3]] = x + y if codes[-1] == 1 else x * y\n",
    "                op += 4\n",
    "            # Comparison result\n",
    "            elif codes[-1] == 7:\n",
    "                p[p[op + 3]] = int(x < y)\n",
    "                op += 4\n",
    "            elif codes[-1] == 8:\n",
    "                p[p[op + 3]] = int(x == y)\n",
    "                op += 4\n",
    "            # Jump if eq\n",
    "            elif (codes[-1] == 5 and x != 0) or (codes[-1] == 6 and x == 0):\n",
    "                op = y  \n",
    "            # Jump instruction that failed their test\n",
    "            else:\n",
    "                op += 3\n",
    "    return last_diagnostic, 0, op\n",
    "\n",
    "def max_signal(program, num_amplifiers=5, taken=[], in_=0):\n",
    "    current_max = 0\n",
    "    assignment = []\n",
    "    for s in [x for x in range(num_amplifiers) if x not in taken]:\n",
    "        output, _, _ = run_program([x for x in program], [in_, s], early_exit=False)\n",
    "        if len(taken) == num_amplifiers - 1:\n",
    "            return output, taken + [s]\n",
    "        else:\n",
    "            c, a = max_signal(program, in_=output, taken=taken + [s])\n",
    "        if c > current_max:\n",
    "            current_max = c\n",
    "            assignment = a\n",
    "    return current_max, assignment"
   ]
  },
  {
   "cell_type": "code",
   "execution_count": 47,
   "metadata": {
    "ExecuteTime": {
     "end_time": "2019-12-22T23:56:04.376486Z",
     "start_time": "2019-12-22T23:56:04.351975Z"
    }
   },
   "outputs": [
    {
     "name": "stdout",
     "output_type": "stream",
     "text": [
      "Maximum thruster signal 422858 with phase settings [3, 1, 4, 2, 0]\n"
     ]
    }
   ],
   "source": [
    "with open(\"inputs/day7.txt\", 'r') as f:\n",
    "    inputs = list(map(int, f.read().split(',')))\n",
    "    \n",
    "print(\"Maximum thruster signal {} with phase settings {}\".format(*max_signal(inputs)))"
   ]
  },
  {
   "cell_type": "code",
   "execution_count": 48,
   "metadata": {},
   "outputs": [],
   "source": [
    "import itertools\n",
    "\n",
    "def max_signal_recursive(program, num_amplifiers=5, taken=[], in_=0):\n",
    "    current_max = 0\n",
    "    best_assignment = []\n",
    "    current_thrust_value = 0\n",
    "    program_states = [[x for x in program] for _ in range(num_amplifiers)]\n",
    "    op_states = [0 for _ in range(num_amplifiers)]\n",
    "    for assignment in itertools.permutations([5, 6, 7, 8, 9]):\n",
    "        # first iteration\n",
    "        output, _, op_states[0] = run_program(\n",
    "            program_states[0], [in_, assignment[0]], early_exit=True)\n",
    "        for i in range(1, 5):\n",
    "            output, _, op_states[i] = run_program(\n",
    "                program_states[i], [output, assignment[i]], early_exit=True)\n",
    "        current_thrust_value = output\n",
    "        # feedback loop\n",
    "        amplifier_index = 0\n",
    "        while 1:\n",
    "            output, _, op_states[amplifier_index] = run_program(\n",
    "                program_states[amplifier_index], [output], early_exit=True,\n",
    "                init_op=op_states[amplifier_index])\n",
    "            amplifier_index += 1\n",
    "            amplifier_index %= 5\n",
    "            if not amplifier_index:\n",
    "                if output is None:\n",
    "                    if current_thrust_value > current_max:\n",
    "                        current_max = current_thrust_value\n",
    "                        best_assignment = assignment\n",
    "                    break\n",
    "                else:\n",
    "                    current_thrust_value = output\n",
    "    return current_max, best_assignment"
   ]
  },
  {
   "cell_type": "code",
   "execution_count": 49,
   "metadata": {},
   "outputs": [
    {
     "name": "stdout",
     "output_type": "stream",
     "text": [
      "Maximum thruster signal 14897241 with phase settings (7, 8, 9, 6, 5)\n"
     ]
    }
   ],
   "source": [
    "print(\"Maximum thruster signal {} with phase settings {}\".format(*max_signal_recursive(inputs)))"
   ]
  }
 ],
 "metadata": {
  "kernelspec": {
   "display_name": "Python 3",
   "language": "python",
   "name": "python3"
  },
  "language_info": {
   "codemirror_mode": {
    "name": "ipython",
    "version": 3
   },
   "file_extension": ".py",
   "mimetype": "text/x-python",
   "name": "python",
   "nbconvert_exporter": "python",
   "pygments_lexer": "ipython3",
   "version": "3.8.5"
  }
 },
 "nbformat": 4,
 "nbformat_minor": 4
}
