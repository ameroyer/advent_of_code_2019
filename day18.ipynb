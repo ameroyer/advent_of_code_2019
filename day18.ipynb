{
 "cells": [
  {
   "cell_type": "markdown",
   "metadata": {},
   "source": [
    "# 🍠 [Day 18](https://adventofcode.com/2019/day/18)"
   ]
  },
  {
   "cell_type": "code",
   "execution_count": 1,
   "metadata": {},
   "outputs": [],
   "source": [
    "import heapq\n",
    "import numpy as np\n",
    "from collections import defaultdict\n",
    "\n",
    "def parse_maze(inputs):\n",
    "    maze = [list(line) for line in inputs.splitlines()]\n",
    "    return np.array(maze)\n",
    "    \n",
    "        \n",
    "def bfs_with_constraints(maze):\n",
    "    start = np.where(maze == '@')\n",
    "    num_keys = np.amax(list(map(ord, maze.flatten()))) - ord('a') + 1\n",
    "    # Save minimum distances from starting point \n",
    "    # for every target point x keys combination\n",
    "    dists = defaultdict(lambda: defaultdict(lambda: float('inf')))\n",
    "    # Queue\n",
    "    # cost, num keys left, keys found, current point\n",
    "    # The heap will prioritize point with low cost \n",
    "    # and, at equal cost, highest number of keys\n",
    "    queue = [(0, num_keys, (), start[0][0], start[1][0])]\n",
    "    heapq.heapify(queue)\n",
    "    \n",
    "    # Output\n",
    "    keys_order = None\n",
    "    min_dist = float('inf')\n",
    "    \n",
    "    while len(queue):\n",
    "        cost, k, keys, x, y = heapq.heappop(queue)\n",
    "        if k != num_keys - len(keys):\n",
    "            break\n",
    "        for (i, j) in [(x - 1, y), (x + 1, y), (x, y - 1), (x, y + 1)]:\n",
    "            # Wall or locked door\n",
    "            if (maze[i, j] == '#' or \n",
    "                (ord('A') <= ord(maze[i, j]) < ord('a') \n",
    "                 and maze[i, j].lower() not in keys)):\n",
    "                continue\n",
    "            # Pick up a new key\n",
    "            elif ord(maze[i, j]) >= ord('a') and maze[i, j] not in keys:\n",
    "                # Update cost for new keys + next state\n",
    "                new_keys = keys + (maze[i, j],)\n",
    "                hashkey = tuple(sorted(new_keys))\n",
    "                if dists[hashkey][(i, j)] > cost + 1:\n",
    "                    dists[hashkey][(i, j)] = cost + 1\n",
    "                    # Add to queue if still to be found\n",
    "                    if k > 1:\n",
    "                        heapq.heappush(queue, (cost + 1, k - 1, new_keys, i, j))\n",
    "                    # Otherwise, save key order\n",
    "                    elif cost + 1 < min_dist:\n",
    "                        min_dist = cost + 1\n",
    "                        keys_order = new_keys\n",
    "            # Advance / normal path\n",
    "            else:\n",
    "                hashkey = tuple(sorted(keys))\n",
    "                if dists[hashkey][(i, j)] > cost + 1:\n",
    "                    dists[hashkey][(i, j)] = cost + 1\n",
    "                    heapq.heappush(queue, (cost + 1, k, keys, i, j))\n",
    "    return min_dist, keys_order\n"
   ]
  },
  {
   "cell_type": "code",
   "execution_count": 2,
   "metadata": {},
   "outputs": [
    {
     "name": "stdout",
     "output_type": "stream",
     "text": [
      "The shortest path takes a total of 6162 steps and is achieved by collecting the keys in order ('e', 'f', 'z', 'b', 'i', 'l', 'a', 'u', 'p', 'd', 'c', 'k', 'o', 'r', 's', 'j', 'q', 'm', 't', 'v', 'x', 'h', 'g', 'n', 'y', 'w')\n",
      "CPU times: user 16.3 s, sys: 151 ms, total: 16.4 s\n",
      "Wall time: 16.4 s\n"
     ]
    }
   ],
   "source": [
    "%%time\n",
    "with open('inputs/day18.txt', 'r') as f:\n",
    "    maze = parse_maze(f.read())\n",
    "    \n",
    "print(\"The shortest path takes a total of {0} steps and is \"\n",
    "      \"achieved by collecting the keys in order {1}\".format(\n",
    "      *bfs_with_constraints(maze)))"
   ]
  }
 ],
 "metadata": {
  "kernelspec": {
   "display_name": "Python 3",
   "language": "python",
   "name": "python3"
  },
  "language_info": {
   "codemirror_mode": {
    "name": "ipython",
    "version": 3
   },
   "file_extension": ".py",
   "mimetype": "text/x-python",
   "name": "python",
   "nbconvert_exporter": "python",
   "pygments_lexer": "ipython3",
   "version": "3.8.5"
  }
 },
 "nbformat": 4,
 "nbformat_minor": 4
}
