{
 "cells": [
  {
   "cell_type": "markdown",
   "metadata": {},
   "source": [
    "# 🍲 [Day 11](https://adventofcode.com/2019/day/11)"
   ]
  },
  {
   "cell_type": "code",
   "execution_count": 64,
   "metadata": {},
   "outputs": [],
   "source": [
    "def run_program(p, inputs, init_op=0, init_base=0):\n",
    "    #Inputs are given in reverse order (pop)\n",
    "    op = init_op\n",
    "    relative_base = init_base\n",
    "    last_diagnostic = []\n",
    "    while p[op] != 99:\n",
    "        codes = \"%05d\" % p[op]\n",
    "        codes = [int(codes[0]), int(codes[1]), int(codes[2]), int(codes[3:])]\n",
    "        # inputs\n",
    "        if codes[-1] == 3:\n",
    "            assert codes[1] == 0\n",
    "            p[p[op + 1] + (relative_base if codes[2] == 2 else 0)] = inputs.pop()\n",
    "            op += 2\n",
    "        # unary ops\n",
    "        elif codes[-1] in  [4, 9]:\n",
    "            # read parameter\n",
    "            assert codes[1] == 0\n",
    "            param = p[op + 1]\n",
    "            if (codes[2] % 2) == 0:\n",
    "                try:\n",
    "                    param = p[param + (relative_base if codes[2] == 2 else 0)]\n",
    "                except IndexError:\n",
    "                    param = 0\n",
    "            # output\n",
    "            if codes[-1] == 4:\n",
    "                last_diagnostic.append(param)\n",
    "                if len(last_diagnostic) == 2:\n",
    "                    return last_diagnostic, 1, op + 2, relative_base\n",
    "            # update relative base\n",
    "            else:\n",
    "                relative_base += param\n",
    "            # next instr\n",
    "            op += 2\n",
    "        else:\n",
    "            # read parameters in correct mode\n",
    "            x, y = p[op + 1:op + 3]\n",
    "            if (codes[2] % 2) == 0:\n",
    "                try:\n",
    "                    x = p[x + (relative_base if codes[2] == 2 else 0)]\n",
    "                except IndexError:\n",
    "                    x = 0\n",
    "            if not (codes[1] % 2):\n",
    "                try:\n",
    "                    y = p[y + (relative_base if codes[1] == 2 else 0)]\n",
    "                except IndexError:\n",
    "                    y = 0\n",
    "            # Read target and allocate more memory if needed\n",
    "            target = p[op + 3] + (relative_base if codes[0] == 2 else 0)\n",
    "            if target >= len(p): \n",
    "                p += [0] * (target - len(p) + 1)\n",
    "            # addition and multiplication\n",
    "            if codes[-1] in [1, 2]:\n",
    "                p[target] = x + y if codes[-1] == 1 else x * y\n",
    "                op += 4\n",
    "            # Comparison result\n",
    "            elif codes[-1] == 7:\n",
    "                p[target] = int(x < y)\n",
    "                op += 4\n",
    "            elif codes[-1] == 8:\n",
    "                p[target] = int(x == y)\n",
    "                op += 4\n",
    "            # Jump if eq\n",
    "            elif (codes[-1] == 5 and x != 0) or (codes[-1] == 6 and x == 0):\n",
    "                op = y  \n",
    "            # Jump instruction that failed their test\n",
    "            else:\n",
    "                op += 3\n",
    "    return last_diagnostic, 0, op, relative_base\n",
    "\n",
    "\n",
    "def launch_painter_robot(program, part2=False):\n",
    "    seen = {}\n",
    "    op, base = 0, 0\n",
    "    p = [x for x in program]\n",
    "    coords = (0, 0)\n",
    "    direction = (0, 1)\n",
    "    outputs = [0, 0]\n",
    "    if part2:\n",
    "        seen[coords] = 1\n",
    "    while 1:\n",
    "        outputs, _, op, base = run_program(p, [seen.get(coords, 0)], init_op=op, init_base=base)\n",
    "        if len(outputs) != 2: \n",
    "            break\n",
    "        # paint\n",
    "        seen[coords] = outputs[0]\n",
    "        # rotate\n",
    "        if outputs[1] == 0:\n",
    "            direction = (- direction[1], direction[0])\n",
    "        elif outputs[1] == 1:\n",
    "            direction = (direction[1], - direction[0])\n",
    "        coords = (coords[0] + direction[0], coords[1] + direction[1])\n",
    "    return seen"
   ]
  },
  {
   "cell_type": "code",
   "execution_count": 66,
   "metadata": {},
   "outputs": [
    {
     "name": "stdout",
     "output_type": "stream",
     "text": [
      "The robot painted 2219 cells at least once\n"
     ]
    }
   ],
   "source": [
    "with open(\"inputs/day11.txt\", 'r') as f:\n",
    "    inputs = list(map(int, f.read().split(',')))\n",
    "    \n",
    "print(\"The robot painted {} cells at least once\".format(len(launch_painter_robot(inputs))))"
   ]
  },
  {
   "cell_type": "code",
   "execution_count": 85,
   "metadata": {},
   "outputs": [
    {
     "data": {
      "image/png": "[encoded data removed]",
      "text/plain": [
       "<Figure size 432x288 with 1 Axes>"
      ]
     },
     "metadata": {
      "needs_background": "light"
     },
     "output_type": "display_data"
    }
   ],
   "source": [
    "seen = launch_painter_robot(inputs, part2=True)\n",
    "\n",
    "# Filter and plot\n",
    "import numpy as np\n",
    "from matplotlib import pyplot as plt\n",
    "seen = {x: y for x, y in seen.items() if y}\n",
    "xs, ys = zip(*seen.keys())\n",
    "minx, maxx = min(xs), max(xs)\n",
    "miny, maxy = min(ys), max(ys)\n",
    "arr = np.zeros((maxx - minx + 1, maxy - miny + 1))\n",
    "for x, y in seen:\n",
    "    arr[x - minx, y - miny] = 1\n",
    "plt.imshow(arr[:, ::-1].transpose())\n",
    "plt.axis('off')\n",
    "plt.show()"
   ]
  }
 ],
 "metadata": {
  "kernelspec": {
   "display_name": "Python 3",
   "language": "python",
   "name": "python3"
  },
  "language_info": {
   "codemirror_mode": {
    "name": "ipython",
    "version": 3
   },
   "file_extension": ".py",
   "mimetype": "text/x-python",
   "name": "python",
   "nbconvert_exporter": "python",
   "pygments_lexer": "ipython3",
   "version": "3.8.5"
  }
 },
 "nbformat": 4,
 "nbformat_minor": 4
}
