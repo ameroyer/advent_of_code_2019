{
 "cells": [
  {
   "cell_type": "markdown",
   "metadata": {
    "ExecuteTime": {
     "end_time": "2019-12-04T10:06:50.869827Z",
     "start_time": "2019-12-04T10:06:50.865802Z"
    }
   },
   "source": [
    "# 🍰 [Day 5](https://adventofcode.com/2019/day/5)"
   ]
  },
  {
   "cell_type": "code",
   "execution_count": 1,
   "metadata": {
    "ExecuteTime": {
     "end_time": "2019-12-13T15:00:55.461399Z",
     "start_time": "2019-12-13T15:00:54.350789Z"
    }
   },
   "outputs": [],
   "source": [
    "def run_program(p, inputs):\n",
    "    op = 0\n",
    "    last_diagnostic = None\n",
    "    while p[op] != 99:\n",
    "        codes = \"%05d\" % p[op]\n",
    "        codes = [int(codes[0]), int(codes[1]), int(codes[2]), int(codes[3:])]\n",
    "        assert codes[0] == 0\n",
    "        # Outputs\n",
    "        if codes[-1] == 4:\n",
    "            last_diagnostic = p[p[op + 1]]\n",
    "            op += 2\n",
    "        # Inputs\n",
    "        elif codes[-1] == 3:\n",
    "            assert codes[1] == codes[2] == 0\n",
    "            p[p[op + 1]] = inputs.pop()\n",
    "            op += 2\n",
    "        else:\n",
    "            x, y = p[op + 1:op + 3]\n",
    "            x = p[x] if codes[2] == 0 else x\n",
    "            y = p[y] if codes[1] == 0 else y\n",
    "            # addition and multiplication\n",
    "            if codes[-1] in [1, 2]:\n",
    "                p[p[op + 3]] = x + y if codes[-1] == 1 else x * y\n",
    "                op += 4\n",
    "            # Comparison result\n",
    "            elif codes[-1] == 7:\n",
    "                p[p[op + 3]] = int(x < y)\n",
    "                op += 4\n",
    "            elif codes[-1] == 8:\n",
    "                p[p[op + 3]] = int(x == y)\n",
    "                op += 4\n",
    "            # Jump if eq\n",
    "            elif (codes[-1] == 5 and x != 0) or (codes[-1] == 6 and x == 0):\n",
    "                op = y  \n",
    "            # Jump instruction that failed their test\n",
    "            else:\n",
    "                op += 3\n",
    "    return last_diagnostic\n",
    "\n",
    "\n",
    "def get_diagnostic_code(program, inputs):\n",
    "    return run_program([x for x in program], inputs)"
   ]
  },
  {
   "cell_type": "code",
   "execution_count": 2,
   "metadata": {
    "ExecuteTime": {
     "end_time": "2019-12-13T15:00:55.569370Z",
     "start_time": "2019-12-13T15:00:55.493818Z"
    }
   },
   "outputs": [
    {
     "name": "stdout",
     "output_type": "stream",
     "text": [
      "Diagnostic code: 13285749\n",
      "Extended diagnostic code: 5000972\n"
     ]
    }
   ],
   "source": [
    "with open(\"inputs/day5.txt\", 'r') as f:\n",
    "    inputs = list(map(int, f.read().split(',')))\n",
    "\n",
    "print(\"Diagnostic code:\", get_diagnostic_code(inputs, [1]))\n",
    "print(\"Extended diagnostic code:\", get_diagnostic_code(inputs, [5]))"
   ]
  }
 ],
 "metadata": {
  "kernelspec": {
   "display_name": "Python 3",
   "language": "python",
   "name": "python3"
  },
  "language_info": {
   "codemirror_mode": {
    "name": "ipython",
    "version": 3
   },
   "file_extension": ".py",
   "mimetype": "text/x-python",
   "name": "python",
   "nbconvert_exporter": "python",
   "pygments_lexer": "ipython3",
   "version": "3.5.3"
  },
  "latex_envs": {
   "LaTeX_envs_menu_present": true,
   "autoclose": false,
   "autocomplete": true,
   "bibliofile": "biblio.bib",
   "cite_by": "apalike",
   "current_citInitial": 1,
   "eqLabelWithNumbers": true,
   "eqNumInitial": 1,
   "hotkeys": {
    "equation": "Ctrl-E",
    "itemize": "Ctrl-I"
   },
   "labels_anchors": false,
   "latex_user_defs": false,
   "report_style_numbering": false,
   "user_envs_cfg": false
  }
 },
 "nbformat": 4,
 "nbformat_minor": 2
}
