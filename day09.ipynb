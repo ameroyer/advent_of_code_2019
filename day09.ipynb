{
 "cells": [
  {
   "cell_type": "markdown",
   "metadata": {},
   "source": [
    "# 💗 [Day 9](https://adventofcode.com/2019/day/9)"
   ]
  },
  {
   "cell_type": "code",
   "execution_count": 132,
   "metadata": {},
   "outputs": [],
   "source": [
    "def run_program(p, inputs, init_op=0, init_base=0, early_exit=False):\n",
    "    #Inputs are given in reverse order (pop)\n",
    "    op = init_op\n",
    "    relative_base = init_base\n",
    "    last_diagnostic = []\n",
    "    while p[op] != 99:\n",
    "        codes = \"%05d\" % p[op]\n",
    "        codes = [int(codes[0]), int(codes[1]), int(codes[2]), int(codes[3:])]\n",
    "        # inputs\n",
    "        if codes[-1] == 3:\n",
    "            assert codes[1] == 0\n",
    "            p[p[op + 1] + (relative_base if codes[2] == 2 else 0)] = inputs.pop()\n",
    "            op += 2\n",
    "        # unary ops\n",
    "        elif codes[-1] in  [4, 9]:\n",
    "            # read parameter\n",
    "            assert codes[1] == 0\n",
    "            param = p[op + 1]\n",
    "            if (codes[2] % 2) == 0:\n",
    "                try:\n",
    "                    param = p[param + (relative_base if codes[2] == 2 else 0)]\n",
    "                except IndexError:\n",
    "                    param = 0\n",
    "            # output\n",
    "            if codes[-1] == 4:\n",
    "                last_diagnostic.append(param)\n",
    "                if early_exit:\n",
    "                    return last_diagnostic[-1], 1, op\n",
    "            # update relative base\n",
    "            else:\n",
    "                relative_base += param\n",
    "            # next instr\n",
    "            op += 2\n",
    "        else:\n",
    "            # read parameters in correct mode\n",
    "            x, y = p[op + 1:op + 3]\n",
    "            if (codes[2] % 2) == 0:\n",
    "                try:\n",
    "                    x = p[x + (relative_base if codes[2] == 2 else 0)]\n",
    "                except IndexError:\n",
    "                    x = 0\n",
    "            if not (codes[1] % 2):\n",
    "                try:\n",
    "                    y = p[y + (relative_base if codes[1] == 2 else 0)]\n",
    "                except IndexError:\n",
    "                    y = 0\n",
    "            # Read target and allocate more memory if needed\n",
    "            target = p[op + 3] + (relative_base if codes[0] == 2 else 0)\n",
    "            if target >= len(p): \n",
    "                p += [0] * (target - len(p) + 1)\n",
    "            # addition and multiplication\n",
    "            if codes[-1] in [1, 2]:\n",
    "                p[target] = x + y if codes[-1] == 1 else x * y\n",
    "                op += 4\n",
    "            # Comparison result\n",
    "            elif codes[-1] == 7:\n",
    "                p[target] = int(x < y)\n",
    "                op += 4\n",
    "            elif codes[-1] == 8:\n",
    "                p[target] = int(x == y)\n",
    "                op += 4\n",
    "            # Jump if eq\n",
    "            elif (codes[-1] == 5 and x != 0) or (codes[-1] == 6 and x == 0):\n",
    "                op = y  \n",
    "            # Jump instruction that failed their test\n",
    "            else:\n",
    "                op += 3\n",
    "    return last_diagnostic, 0, op"
   ]
  },
  {
   "cell_type": "code",
   "execution_count": 133,
   "metadata": {},
   "outputs": [
    {
     "name": "stdout",
     "output_type": "stream",
     "text": [
      "Running BOOST in test mode yields key 2682107844\n"
     ]
    }
   ],
   "source": [
    "with open(\"inputs/day9.txt\", 'r') as f:\n",
    "    inputs = list(map(int, f.read().split(',')))\n",
    "    \n",
    "key = run_program([x for x in inputs], [1])[0][0]\n",
    "print(\"Running BOOST in test mode yields key {}\".format(key))"
   ]
  },
  {
   "cell_type": "code",
   "execution_count": 134,
   "metadata": {},
   "outputs": [
    {
     "name": "stdout",
     "output_type": "stream",
     "text": [
      "Running BOOST in sensor boost mode yields key 34738\n"
     ]
    }
   ],
   "source": [
    "key = run_program([x for x in inputs], [2])[0][0]\n",
    "print(\"Running BOOST in sensor boost mode yields key {}\".format(key))"
   ]
  }
 ],
 "metadata": {
  "kernelspec": {
   "display_name": "Python 3",
   "language": "python",
   "name": "python3"
  },
  "language_info": {
   "codemirror_mode": {
    "name": "ipython",
    "version": 3
   },
   "file_extension": ".py",
   "mimetype": "text/x-python",
   "name": "python",
   "nbconvert_exporter": "python",
   "pygments_lexer": "ipython3",
   "version": "3.8.5"
  }
 },
 "nbformat": 4,
 "nbformat_minor": 4
}
